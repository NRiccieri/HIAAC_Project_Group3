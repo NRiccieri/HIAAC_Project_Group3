{
  "nbformat": 4,
  "nbformat_minor": 0,
  "metadata": {
    "colab": {
      "name": "Centralized_case_FL_proposta_algoritmo_compressao.ipynb",
      "provenance": [],
      "collapsed_sections": [
        "JUeu2bFxpN85"
      ],
      "authorship_tag": "ABX9TyPoM6LbIhULm37JFoqYEjf5",
      "include_colab_link": true
    },
    "kernelspec": {
      "name": "python3",
      "display_name": "Python 3"
    },
    "language_info": {
      "name": "python"
    }
  },
  "cells": [
    {
      "cell_type": "markdown",
      "metadata": {
        "id": "view-in-github",
        "colab_type": "text"
      },
      "source": [
        "<a href=\"https://colab.research.google.com/github/NRiccieri/HIAAC_Project_Group3/blob/main/Centralized_case_FL_proposta_algoritmo_compressao.ipynb\" target=\"_parent\"><img src=\"https://colab.research.google.com/assets/colab-badge.svg\" alt=\"Open In Colab\"/></a>"
      ]
    },
    {
      "cell_type": "markdown",
      "source": [
        "# **FL Compression Algorithm**\n",
        "\n",
        "In this notebook, we train a DNN on a single machine containing all the datasets for training.\n",
        "\n",
        "This will be used as reference for experiments in training the same DNN model under FL environment. \n"
      ],
      "metadata": {
        "id": "JkzJr8-ovoO7"
      }
    },
    {
      "cell_type": "code",
      "execution_count": 1,
      "metadata": {
        "id": "tQ3MhPtrvgrh"
      },
      "outputs": [],
      "source": [
        "import numpy as np \n",
        "import pandas as pd\n",
        "from matplotlib import pyplot as plt\n",
        "import seaborn as sns"
      ]
    },
    {
      "cell_type": "code",
      "source": [
        "#create gdrive folder inside content\n",
        "from google.colab import drive\n",
        "drive.mount('/content/gdrive')"
      ],
      "metadata": {
        "colab": {
          "base_uri": "https://localhost:8080/"
        },
        "id": "nbdaqcm2Ydwt",
        "outputId": "bbb25676-8875-4151-c88e-6d2b16fe6a7c"
      },
      "execution_count": 2,
      "outputs": [
        {
          "output_type": "stream",
          "name": "stdout",
          "text": [
            "Mounted at /content/gdrive\n"
          ]
        }
      ]
    },
    {
      "cell_type": "code",
      "source": [
        "#importing dataset to google colab from gdrive\n",
        "!cp /content/gdrive/MyDrive/kaggle_datasets/archive.zip  /content/archive.zip \n",
        "\n",
        "#unzipping \n",
        "!unzip archive.zip "
      ],
      "metadata": {
        "colab": {
          "base_uri": "https://localhost:8080/"
        },
        "id": "rPZunpY7Ysbo",
        "outputId": "c984f19d-7d2a-4616-d80c-a9d0f901b09d"
      },
      "execution_count": 3,
      "outputs": [
        {
          "output_type": "stream",
          "name": "stdout",
          "text": [
            "Archive:  archive.zip\n",
            "  inflating: test.csv                \n",
            "  inflating: train.csv               \n"
          ]
        }
      ]
    },
    {
      "cell_type": "code",
      "source": [
        "df_train=pd.read_csv('train.csv')"
      ],
      "metadata": {
        "id": "pAojsMm0lEul"
      },
      "execution_count": 4,
      "outputs": []
    },
    {
      "cell_type": "code",
      "source": [
        "df_train.head()"
      ],
      "metadata": {
        "colab": {
          "base_uri": "https://localhost:8080/",
          "height": 317
        },
        "id": "2rl9yavblhi2",
        "outputId": "98a2e6c1-8ac1-4e98-e733-ce31e1789f77"
      },
      "execution_count": 5,
      "outputs": [
        {
          "output_type": "execute_result",
          "data": {
            "text/plain": [
              "   tBodyAcc-mean()-X  tBodyAcc-mean()-Y  tBodyAcc-mean()-Z  tBodyAcc-std()-X  \\\n",
              "0           0.288585          -0.020294          -0.132905         -0.995279   \n",
              "1           0.278419          -0.016411          -0.123520         -0.998245   \n",
              "2           0.279653          -0.019467          -0.113462         -0.995380   \n",
              "3           0.279174          -0.026201          -0.123283         -0.996091   \n",
              "4           0.276629          -0.016570          -0.115362         -0.998139   \n",
              "\n",
              "   tBodyAcc-std()-Y  tBodyAcc-std()-Z  tBodyAcc-mad()-X  tBodyAcc-mad()-Y  \\\n",
              "0         -0.983111         -0.913526         -0.995112         -0.983185   \n",
              "1         -0.975300         -0.960322         -0.998807         -0.974914   \n",
              "2         -0.967187         -0.978944         -0.996520         -0.963668   \n",
              "3         -0.983403         -0.990675         -0.997099         -0.982750   \n",
              "4         -0.980817         -0.990482         -0.998321         -0.979672   \n",
              "\n",
              "   tBodyAcc-mad()-Z  tBodyAcc-max()-X  ...  fBodyBodyGyroJerkMag-kurtosis()  \\\n",
              "0         -0.923527         -0.934724  ...                        -0.710304   \n",
              "1         -0.957686         -0.943068  ...                        -0.861499   \n",
              "2         -0.977469         -0.938692  ...                        -0.760104   \n",
              "3         -0.989302         -0.938692  ...                        -0.482845   \n",
              "4         -0.990441         -0.942469  ...                        -0.699205   \n",
              "\n",
              "   angle(tBodyAccMean,gravity)  angle(tBodyAccJerkMean),gravityMean)  \\\n",
              "0                    -0.112754                              0.030400   \n",
              "1                     0.053477                             -0.007435   \n",
              "2                    -0.118559                              0.177899   \n",
              "3                    -0.036788                             -0.012892   \n",
              "4                     0.123320                              0.122542   \n",
              "\n",
              "   angle(tBodyGyroMean,gravityMean)  angle(tBodyGyroJerkMean,gravityMean)  \\\n",
              "0                         -0.464761                             -0.018446   \n",
              "1                         -0.732626                              0.703511   \n",
              "2                          0.100699                              0.808529   \n",
              "3                          0.640011                             -0.485366   \n",
              "4                          0.693578                             -0.615971   \n",
              "\n",
              "   angle(X,gravityMean)  angle(Y,gravityMean)  angle(Z,gravityMean)  subject  \\\n",
              "0             -0.841247              0.179941             -0.058627        1   \n",
              "1             -0.844788              0.180289             -0.054317        1   \n",
              "2             -0.848933              0.180637             -0.049118        1   \n",
              "3             -0.848649              0.181935             -0.047663        1   \n",
              "4             -0.847865              0.185151             -0.043892        1   \n",
              "\n",
              "   Activity  \n",
              "0  STANDING  \n",
              "1  STANDING  \n",
              "2  STANDING  \n",
              "3  STANDING  \n",
              "4  STANDING  \n",
              "\n",
              "[5 rows x 563 columns]"
            ],
            "text/html": [
              "\n",
              "  <div id=\"df-ba9d8e66-a046-4651-9e96-7720888d89c8\">\n",
              "    <div class=\"colab-df-container\">\n",
              "      <div>\n",
              "<style scoped>\n",
              "    .dataframe tbody tr th:only-of-type {\n",
              "        vertical-align: middle;\n",
              "    }\n",
              "\n",
              "    .dataframe tbody tr th {\n",
              "        vertical-align: top;\n",
              "    }\n",
              "\n",
              "    .dataframe thead th {\n",
              "        text-align: right;\n",
              "    }\n",
              "</style>\n",
              "<table border=\"1\" class=\"dataframe\">\n",
              "  <thead>\n",
              "    <tr style=\"text-align: right;\">\n",
              "      <th></th>\n",
              "      <th>tBodyAcc-mean()-X</th>\n",
              "      <th>tBodyAcc-mean()-Y</th>\n",
              "      <th>tBodyAcc-mean()-Z</th>\n",
              "      <th>tBodyAcc-std()-X</th>\n",
              "      <th>tBodyAcc-std()-Y</th>\n",
              "      <th>tBodyAcc-std()-Z</th>\n",
              "      <th>tBodyAcc-mad()-X</th>\n",
              "      <th>tBodyAcc-mad()-Y</th>\n",
              "      <th>tBodyAcc-mad()-Z</th>\n",
              "      <th>tBodyAcc-max()-X</th>\n",
              "      <th>...</th>\n",
              "      <th>fBodyBodyGyroJerkMag-kurtosis()</th>\n",
              "      <th>angle(tBodyAccMean,gravity)</th>\n",
              "      <th>angle(tBodyAccJerkMean),gravityMean)</th>\n",
              "      <th>angle(tBodyGyroMean,gravityMean)</th>\n",
              "      <th>angle(tBodyGyroJerkMean,gravityMean)</th>\n",
              "      <th>angle(X,gravityMean)</th>\n",
              "      <th>angle(Y,gravityMean)</th>\n",
              "      <th>angle(Z,gravityMean)</th>\n",
              "      <th>subject</th>\n",
              "      <th>Activity</th>\n",
              "    </tr>\n",
              "  </thead>\n",
              "  <tbody>\n",
              "    <tr>\n",
              "      <th>0</th>\n",
              "      <td>0.288585</td>\n",
              "      <td>-0.020294</td>\n",
              "      <td>-0.132905</td>\n",
              "      <td>-0.995279</td>\n",
              "      <td>-0.983111</td>\n",
              "      <td>-0.913526</td>\n",
              "      <td>-0.995112</td>\n",
              "      <td>-0.983185</td>\n",
              "      <td>-0.923527</td>\n",
              "      <td>-0.934724</td>\n",
              "      <td>...</td>\n",
              "      <td>-0.710304</td>\n",
              "      <td>-0.112754</td>\n",
              "      <td>0.030400</td>\n",
              "      <td>-0.464761</td>\n",
              "      <td>-0.018446</td>\n",
              "      <td>-0.841247</td>\n",
              "      <td>0.179941</td>\n",
              "      <td>-0.058627</td>\n",
              "      <td>1</td>\n",
              "      <td>STANDING</td>\n",
              "    </tr>\n",
              "    <tr>\n",
              "      <th>1</th>\n",
              "      <td>0.278419</td>\n",
              "      <td>-0.016411</td>\n",
              "      <td>-0.123520</td>\n",
              "      <td>-0.998245</td>\n",
              "      <td>-0.975300</td>\n",
              "      <td>-0.960322</td>\n",
              "      <td>-0.998807</td>\n",
              "      <td>-0.974914</td>\n",
              "      <td>-0.957686</td>\n",
              "      <td>-0.943068</td>\n",
              "      <td>...</td>\n",
              "      <td>-0.861499</td>\n",
              "      <td>0.053477</td>\n",
              "      <td>-0.007435</td>\n",
              "      <td>-0.732626</td>\n",
              "      <td>0.703511</td>\n",
              "      <td>-0.844788</td>\n",
              "      <td>0.180289</td>\n",
              "      <td>-0.054317</td>\n",
              "      <td>1</td>\n",
              "      <td>STANDING</td>\n",
              "    </tr>\n",
              "    <tr>\n",
              "      <th>2</th>\n",
              "      <td>0.279653</td>\n",
              "      <td>-0.019467</td>\n",
              "      <td>-0.113462</td>\n",
              "      <td>-0.995380</td>\n",
              "      <td>-0.967187</td>\n",
              "      <td>-0.978944</td>\n",
              "      <td>-0.996520</td>\n",
              "      <td>-0.963668</td>\n",
              "      <td>-0.977469</td>\n",
              "      <td>-0.938692</td>\n",
              "      <td>...</td>\n",
              "      <td>-0.760104</td>\n",
              "      <td>-0.118559</td>\n",
              "      <td>0.177899</td>\n",
              "      <td>0.100699</td>\n",
              "      <td>0.808529</td>\n",
              "      <td>-0.848933</td>\n",
              "      <td>0.180637</td>\n",
              "      <td>-0.049118</td>\n",
              "      <td>1</td>\n",
              "      <td>STANDING</td>\n",
              "    </tr>\n",
              "    <tr>\n",
              "      <th>3</th>\n",
              "      <td>0.279174</td>\n",
              "      <td>-0.026201</td>\n",
              "      <td>-0.123283</td>\n",
              "      <td>-0.996091</td>\n",
              "      <td>-0.983403</td>\n",
              "      <td>-0.990675</td>\n",
              "      <td>-0.997099</td>\n",
              "      <td>-0.982750</td>\n",
              "      <td>-0.989302</td>\n",
              "      <td>-0.938692</td>\n",
              "      <td>...</td>\n",
              "      <td>-0.482845</td>\n",
              "      <td>-0.036788</td>\n",
              "      <td>-0.012892</td>\n",
              "      <td>0.640011</td>\n",
              "      <td>-0.485366</td>\n",
              "      <td>-0.848649</td>\n",
              "      <td>0.181935</td>\n",
              "      <td>-0.047663</td>\n",
              "      <td>1</td>\n",
              "      <td>STANDING</td>\n",
              "    </tr>\n",
              "    <tr>\n",
              "      <th>4</th>\n",
              "      <td>0.276629</td>\n",
              "      <td>-0.016570</td>\n",
              "      <td>-0.115362</td>\n",
              "      <td>-0.998139</td>\n",
              "      <td>-0.980817</td>\n",
              "      <td>-0.990482</td>\n",
              "      <td>-0.998321</td>\n",
              "      <td>-0.979672</td>\n",
              "      <td>-0.990441</td>\n",
              "      <td>-0.942469</td>\n",
              "      <td>...</td>\n",
              "      <td>-0.699205</td>\n",
              "      <td>0.123320</td>\n",
              "      <td>0.122542</td>\n",
              "      <td>0.693578</td>\n",
              "      <td>-0.615971</td>\n",
              "      <td>-0.847865</td>\n",
              "      <td>0.185151</td>\n",
              "      <td>-0.043892</td>\n",
              "      <td>1</td>\n",
              "      <td>STANDING</td>\n",
              "    </tr>\n",
              "  </tbody>\n",
              "</table>\n",
              "<p>5 rows × 563 columns</p>\n",
              "</div>\n",
              "      <button class=\"colab-df-convert\" onclick=\"convertToInteractive('df-ba9d8e66-a046-4651-9e96-7720888d89c8')\"\n",
              "              title=\"Convert this dataframe to an interactive table.\"\n",
              "              style=\"display:none;\">\n",
              "        \n",
              "  <svg xmlns=\"http://www.w3.org/2000/svg\" height=\"24px\"viewBox=\"0 0 24 24\"\n",
              "       width=\"24px\">\n",
              "    <path d=\"M0 0h24v24H0V0z\" fill=\"none\"/>\n",
              "    <path d=\"M18.56 5.44l.94 2.06.94-2.06 2.06-.94-2.06-.94-.94-2.06-.94 2.06-2.06.94zm-11 1L8.5 8.5l.94-2.06 2.06-.94-2.06-.94L8.5 2.5l-.94 2.06-2.06.94zm10 10l.94 2.06.94-2.06 2.06-.94-2.06-.94-.94-2.06-.94 2.06-2.06.94z\"/><path d=\"M17.41 7.96l-1.37-1.37c-.4-.4-.92-.59-1.43-.59-.52 0-1.04.2-1.43.59L10.3 9.45l-7.72 7.72c-.78.78-.78 2.05 0 2.83L4 21.41c.39.39.9.59 1.41.59.51 0 1.02-.2 1.41-.59l7.78-7.78 2.81-2.81c.8-.78.8-2.07 0-2.86zM5.41 20L4 18.59l7.72-7.72 1.47 1.35L5.41 20z\"/>\n",
              "  </svg>\n",
              "      </button>\n",
              "      \n",
              "  <style>\n",
              "    .colab-df-container {\n",
              "      display:flex;\n",
              "      flex-wrap:wrap;\n",
              "      gap: 12px;\n",
              "    }\n",
              "\n",
              "    .colab-df-convert {\n",
              "      background-color: #E8F0FE;\n",
              "      border: none;\n",
              "      border-radius: 50%;\n",
              "      cursor: pointer;\n",
              "      display: none;\n",
              "      fill: #1967D2;\n",
              "      height: 32px;\n",
              "      padding: 0 0 0 0;\n",
              "      width: 32px;\n",
              "    }\n",
              "\n",
              "    .colab-df-convert:hover {\n",
              "      background-color: #E2EBFA;\n",
              "      box-shadow: 0px 1px 2px rgba(60, 64, 67, 0.3), 0px 1px 3px 1px rgba(60, 64, 67, 0.15);\n",
              "      fill: #174EA6;\n",
              "    }\n",
              "\n",
              "    [theme=dark] .colab-df-convert {\n",
              "      background-color: #3B4455;\n",
              "      fill: #D2E3FC;\n",
              "    }\n",
              "\n",
              "    [theme=dark] .colab-df-convert:hover {\n",
              "      background-color: #434B5C;\n",
              "      box-shadow: 0px 1px 3px 1px rgba(0, 0, 0, 0.15);\n",
              "      filter: drop-shadow(0px 1px 2px rgba(0, 0, 0, 0.3));\n",
              "      fill: #FFFFFF;\n",
              "    }\n",
              "  </style>\n",
              "\n",
              "      <script>\n",
              "        const buttonEl =\n",
              "          document.querySelector('#df-ba9d8e66-a046-4651-9e96-7720888d89c8 button.colab-df-convert');\n",
              "        buttonEl.style.display =\n",
              "          google.colab.kernel.accessAllowed ? 'block' : 'none';\n",
              "\n",
              "        async function convertToInteractive(key) {\n",
              "          const element = document.querySelector('#df-ba9d8e66-a046-4651-9e96-7720888d89c8');\n",
              "          const dataTable =\n",
              "            await google.colab.kernel.invokeFunction('convertToInteractive',\n",
              "                                                     [key], {});\n",
              "          if (!dataTable) return;\n",
              "\n",
              "          const docLinkHtml = 'Like what you see? Visit the ' +\n",
              "            '<a target=\"_blank\" href=https://colab.research.google.com/notebooks/data_table.ipynb>data table notebook</a>'\n",
              "            + ' to learn more about interactive tables.';\n",
              "          element.innerHTML = '';\n",
              "          dataTable['output_type'] = 'display_data';\n",
              "          await google.colab.output.renderOutput(dataTable, element);\n",
              "          const docLink = document.createElement('div');\n",
              "          docLink.innerHTML = docLinkHtml;\n",
              "          element.appendChild(docLink);\n",
              "        }\n",
              "      </script>\n",
              "    </div>\n",
              "  </div>\n",
              "  "
            ]
          },
          "metadata": {},
          "execution_count": 5
        }
      ]
    },
    {
      "cell_type": "code",
      "source": [
        "df_train.shape"
      ],
      "metadata": {
        "colab": {
          "base_uri": "https://localhost:8080/"
        },
        "id": "scMZ7vYyln_D",
        "outputId": "96039b3b-ab86-47f4-d954-a2f65a41c4cd"
      },
      "execution_count": 5,
      "outputs": [
        {
          "output_type": "execute_result",
          "data": {
            "text/plain": [
              "(7352, 563)"
            ]
          },
          "metadata": {},
          "execution_count": 5
        }
      ]
    },
    {
      "cell_type": "code",
      "source": [
        "df_train.isnull().sum()"
      ],
      "metadata": {
        "colab": {
          "base_uri": "https://localhost:8080/"
        },
        "id": "DH0fOmnUlzrR",
        "outputId": "68cbb29e-c7d4-4e06-f5d9-08a9acb0e690"
      },
      "execution_count": 8,
      "outputs": [
        {
          "output_type": "execute_result",
          "data": {
            "text/plain": [
              "tBodyAcc-mean()-X       0\n",
              "tBodyAcc-mean()-Y       0\n",
              "tBodyAcc-mean()-Z       0\n",
              "tBodyAcc-std()-X        0\n",
              "tBodyAcc-std()-Y        0\n",
              "                       ..\n",
              "angle(X,gravityMean)    0\n",
              "angle(Y,gravityMean)    0\n",
              "angle(Z,gravityMean)    0\n",
              "subject                 0\n",
              "Activity                0\n",
              "Length: 563, dtype: int64"
            ]
          },
          "metadata": {},
          "execution_count": 8
        }
      ]
    },
    {
      "cell_type": "code",
      "source": [
        "df_train['Activity'].unique()"
      ],
      "metadata": {
        "colab": {
          "base_uri": "https://localhost:8080/"
        },
        "id": "mDg2pAnrl2lS",
        "outputId": "c86f3f4a-97d3-4c49-88f7-d7f7d4306cca"
      },
      "execution_count": 9,
      "outputs": [
        {
          "output_type": "execute_result",
          "data": {
            "text/plain": [
              "array(['STANDING', 'SITTING', 'LAYING', 'WALKING', 'WALKING_DOWNSTAIRS',\n",
              "       'WALKING_UPSTAIRS'], dtype=object)"
            ]
          },
          "metadata": {},
          "execution_count": 9
        }
      ]
    },
    {
      "cell_type": "code",
      "source": [
        "plt.figure(figsize=(12,6))\n",
        "axis=sns.countplot(x=\"Activity\",data=df_train)\n",
        "plt.xticks(x=df_train['Activity'],rotation='vertical')\n",
        "plt.show()"
      ],
      "metadata": {
        "colab": {
          "base_uri": "https://localhost:8080/",
          "height": 497
        },
        "id": "ITIjjP-9l6Mh",
        "outputId": "68fa49f4-4168-42e3-c454-bb9de72fc7c9"
      },
      "execution_count": 10,
      "outputs": [
        {
          "output_type": "display_data",
          "data": {
            "text/plain": [
              "<Figure size 864x432 with 1 Axes>"
            ],
            "image/png": "[encoded data removed]"
          },
          "metadata": {
            "needs_background": "light"
          }
        }
      ]
    },
    {
      "cell_type": "code",
      "source": [
        "df_train['subject'].unique()"
      ],
      "metadata": {
        "colab": {
          "base_uri": "https://localhost:8080/"
        },
        "id": "nywHE-z1l-Tg",
        "outputId": "18a9df36-f307-4301-bbdb-c60838e00dc4"
      },
      "execution_count": 7,
      "outputs": [
        {
          "output_type": "execute_result",
          "data": {
            "text/plain": [
              "array([ 1,  3,  5,  6,  7,  8, 11, 14, 15, 16, 17, 19, 21, 22, 23, 25, 26,\n",
              "       27, 28, 29, 30])"
            ]
          },
          "metadata": {},
          "execution_count": 7
        }
      ]
    },
    {
      "cell_type": "code",
      "source": [
        "x=pd.DataFrame(df_train.drop(['Activity','subject'],axis=1))\n",
        "y=df_train.Activity.values.astype(object)"
      ],
      "metadata": {
        "id": "0J5vV2FemNhd"
      },
      "execution_count": 8,
      "outputs": []
    },
    {
      "cell_type": "code",
      "source": [
        "x.shape , y.shape"
      ],
      "metadata": {
        "colab": {
          "base_uri": "https://localhost:8080/"
        },
        "id": "DtjgYhKXmPl9",
        "outputId": "498b8d63-b6e4-4a02-b1a8-dac52b83dd43"
      },
      "execution_count": 9,
      "outputs": [
        {
          "output_type": "execute_result",
          "data": {
            "text/plain": [
              "((7352, 561), (7352,))"
            ]
          },
          "metadata": {},
          "execution_count": 9
        }
      ]
    },
    {
      "cell_type": "code",
      "source": [
        "df_train.Activity.head()"
      ],
      "metadata": {
        "colab": {
          "base_uri": "https://localhost:8080/"
        },
        "id": "8motQFYomQ_6",
        "outputId": "45e24c7b-ae9b-4106-c820-df8675866815"
      },
      "execution_count": 10,
      "outputs": [
        {
          "output_type": "execute_result",
          "data": {
            "text/plain": [
              "0    STANDING\n",
              "1    STANDING\n",
              "2    STANDING\n",
              "3    STANDING\n",
              "4    STANDING\n",
              "Name: Activity, dtype: object"
            ]
          },
          "metadata": {},
          "execution_count": 10
        }
      ]
    },
    {
      "cell_type": "code",
      "source": [
        "from sklearn import preprocessing"
      ],
      "metadata": {
        "id": "wXLX3Ovzmwwt"
      },
      "execution_count": 11,
      "outputs": []
    },
    {
      "cell_type": "code",
      "source": [
        "encoder=preprocessing.LabelEncoder()"
      ],
      "metadata": {
        "id": "YUqw6NGRmzEC"
      },
      "execution_count": 12,
      "outputs": []
    },
    {
      "cell_type": "code",
      "source": [
        "encoder.fit(y)\n",
        "y=encoder.transform(y)\n",
        "print(\"shape of y: \", y.shape)\n",
        "\n",
        "print(\"y[5]=\", y[5])"
      ],
      "metadata": {
        "colab": {
          "base_uri": "https://localhost:8080/"
        },
        "id": "qyOmsZ8Xm3vA",
        "outputId": "dae340ae-b120-47e2-b575-8e4f76f8de5c"
      },
      "execution_count": 13,
      "outputs": [
        {
          "output_type": "stream",
          "name": "stdout",
          "text": [
            "shape of y:  (7352,)\n",
            "y[5]= 2\n"
          ]
        }
      ]
    },
    {
      "cell_type": "code",
      "source": [
        "encoder.classes_"
      ],
      "metadata": {
        "colab": {
          "base_uri": "https://localhost:8080/"
        },
        "id": "3HiVxMsxnKfm",
        "outputId": "a049ed81-0027-464e-9c4a-c9dfbc3b8f48"
      },
      "execution_count": 14,
      "outputs": [
        {
          "output_type": "execute_result",
          "data": {
            "text/plain": [
              "array(['LAYING', 'SITTING', 'STANDING', 'WALKING', 'WALKING_DOWNSTAIRS',\n",
              "       'WALKING_UPSTAIRS'], dtype=object)"
            ]
          },
          "metadata": {},
          "execution_count": 14
        }
      ]
    },
    {
      "cell_type": "markdown",
      "source": [
        "**Feature scaling**"
      ],
      "metadata": {
        "id": "Uh0cajfWnV0Z"
      }
    },
    {
      "cell_type": "code",
      "source": [
        "from sklearn.preprocessing import StandardScaler\n",
        "\n",
        "scaler=StandardScaler()\n",
        "\n",
        "x=scaler.fit_transform(x)"
      ],
      "metadata": {
        "id": "rZEwrsginXhR"
      },
      "execution_count": 16,
      "outputs": []
    },
    {
      "cell_type": "markdown",
      "source": [
        "**Splitting the dataset into training and validation sets**"
      ],
      "metadata": {
        "id": "SWSpc7TZnzLK"
      }
    },
    {
      "cell_type": "code",
      "source": [
        "from sklearn.model_selection import train_test_split\n",
        "\n",
        "x_train, x_test, y_train, y_test = train_test_split(x, y, test_size=0.10, random_state=100)"
      ],
      "metadata": {
        "id": "6bQyfQ-tn3Br"
      },
      "execution_count": 16,
      "outputs": []
    },
    {
      "cell_type": "code",
      "source": [
        "x_train.shape, x_test.shape, y_train.shape, y_test.shape"
      ],
      "metadata": {
        "colab": {
          "base_uri": "https://localhost:8080/"
        },
        "id": "ff5puY0-oAzr",
        "outputId": "72f65dc8-54df-4d2c-a4da-256d8f87a3cd"
      },
      "execution_count": 17,
      "outputs": [
        {
          "output_type": "execute_result",
          "data": {
            "text/plain": [
              "((6616, 561), (736, 561), (6616,), (736,))"
            ]
          },
          "metadata": {},
          "execution_count": 17
        }
      ]
    },
    {
      "cell_type": "markdown",
      "source": [
        "## **MLP classification in Sklearn**"
      ],
      "metadata": {
        "id": "JUeu2bFxpN85"
      }
    },
    {
      "cell_type": "code",
      "source": [
        "from sklearn.neural_network import MLPClassifier"
      ],
      "metadata": {
        "id": "Vzt3JkG1pRSw"
      },
      "execution_count": 18,
      "outputs": []
    },
    {
      "cell_type": "code",
      "source": [
        "import time\n",
        "start = time.time()\n",
        "\n",
        "clf = MLPClassifier(solver='sgd', alpha=1e-5, hidden_layer_sizes=(50, 50), random_state=1, max_iter=500)\n",
        "clf.fit(X_train, y_train)\n",
        "\n",
        "end = time.time()\n",
        "\n",
        "print(end - start)"
      ],
      "metadata": {
        "colab": {
          "base_uri": "https://localhost:8080/"
        },
        "id": "wXv-W7-1pWQp",
        "outputId": "9149c1aa-fb10-455f-942b-76ac6ca203a5"
      },
      "execution_count": 32,
      "outputs": [
        {
          "output_type": "stream",
          "name": "stdout",
          "text": [
            "58.75421738624573\n"
          ]
        }
      ]
    },
    {
      "cell_type": "code",
      "source": [
        "y_pred = clf.predict(X_test)"
      ],
      "metadata": {
        "id": "4kopXc0tqzFh"
      },
      "execution_count": 33,
      "outputs": []
    },
    {
      "cell_type": "code",
      "source": [
        "from sklearn.metrics import accuracy_score\n",
        "\n",
        "accuracy_score(y_test, y_pred)"
      ],
      "metadata": {
        "colab": {
          "base_uri": "https://localhost:8080/"
        },
        "id": "82tXz4CQq8no",
        "outputId": "34b59e16-924f-414d-a713-39a99689f845"
      },
      "execution_count": 34,
      "outputs": [
        {
          "output_type": "execute_result",
          "data": {
            "text/plain": [
              "0.9850543478260869"
            ]
          },
          "metadata": {},
          "execution_count": 34
        }
      ]
    },
    {
      "cell_type": "markdown",
      "source": [
        "## **MLP in Tensorflow**"
      ],
      "metadata": {
        "id": "O6In90iQAH2c"
      }
    },
    {
      "cell_type": "code",
      "source": [
        "import tensorflow as tf\n",
        "import numpy as np\n",
        "from tensorflow.keras.models import Sequential\n",
        "from tensorflow.keras.layers import Flatten\n",
        "from tensorflow.keras.layers import Dense\n",
        "from tensorflow.keras.layers import Activation\n",
        "import matplotlib.pyplot as plt"
      ],
      "metadata": {
        "id": "KLvH7xEcAKnA"
      },
      "execution_count": 17,
      "outputs": []
    },
    {
      "cell_type": "code",
      "source": [
        "model = Sequential([\n",
        "    \n",
        "    # reshape 28 row * 28 column data to 28*28 rows\n",
        "    Flatten(input_shape=(561,), name=\"inputlayer\"),\n",
        "    \n",
        "    # dense layer 1\n",
        "    Dense(256, activation='sigmoid', name=\"firstlayer\"),  \n",
        "    \n",
        "    # dense layer 2\n",
        "    Dense(256, activation='sigmoid', name=\"secondlayer\"), \n",
        "\n",
        "    # dense layer 3\n",
        "    Dense(256, activation='sigmoid', name=\"thirdlayer\"), \n",
        "    \n",
        "    # output layer\n",
        "    Dense(6, activation='sigmoid', name=\"outputlayer\"),  \n",
        "])\n",
        "\n",
        "model.compile(optimizer='sgd',\n",
        "              loss='sparse_categorical_crossentropy',\n",
        "              metrics=['accuracy'])"
      ],
      "metadata": {
        "id": "rocruLoRAdHY"
      },
      "execution_count": 36,
      "outputs": []
    },
    {
      "cell_type": "code",
      "source": [
        "import time\n",
        "start = time.time()\n",
        "\n",
        "model.fit(x, y, epochs=120, \n",
        "          validation_split=0.15)\n",
        "\n",
        "end = time.time()\n",
        "print(\"training time = \", end - start)"
      ],
      "metadata": {
        "colab": {
          "base_uri": "https://localhost:8080/"
        },
        "id": "2K5DHID-BJlI",
        "outputId": "c3d55c82-f45d-4ebc-ef53-c27205032664"
      },
      "execution_count": 37,
      "outputs": [
        {
          "output_type": "stream",
          "name": "stdout",
          "text": [
            "Epoch 1/120\n",
            "196/196 [==============================] - 1s 5ms/step - loss: 1.7736 - accuracy: 0.2082 - val_loss: 1.7530 - val_accuracy: 0.1859\n",
            "Epoch 2/120\n",
            "196/196 [==============================] - 1s 4ms/step - loss: 1.7168 - accuracy: 0.2687 - val_loss: 1.6864 - val_accuracy: 0.3309\n",
            "Epoch 3/120\n",
            "196/196 [==============================] - 1s 4ms/step - loss: 1.6353 - accuracy: 0.3631 - val_loss: 1.5919 - val_accuracy: 0.3345\n",
            "Epoch 4/120\n",
            "196/196 [==============================] - 1s 4ms/step - loss: 1.5043 - accuracy: 0.4029 - val_loss: 1.4269 - val_accuracy: 0.3345\n",
            "Epoch 5/120\n",
            "196/196 [==============================] - 1s 4ms/step - loss: 1.3463 - accuracy: 0.4271 - val_loss: 1.2862 - val_accuracy: 0.3382\n",
            "Epoch 6/120\n",
            "196/196 [==============================] - 1s 4ms/step - loss: 1.2284 - accuracy: 0.4265 - val_loss: 1.1942 - val_accuracy: 0.3345\n",
            "Epoch 7/120\n",
            "196/196 [==============================] - 1s 4ms/step - loss: 1.1623 - accuracy: 0.4375 - val_loss: 1.1468 - val_accuracy: 0.4814\n",
            "Epoch 8/120\n",
            "196/196 [==============================] - 1s 4ms/step - loss: 1.1263 - accuracy: 0.4623 - val_loss: 1.1078 - val_accuracy: 0.5005\n",
            "Epoch 9/120\n",
            "196/196 [==============================] - 1s 4ms/step - loss: 1.1018 - accuracy: 0.4978 - val_loss: 1.0921 - val_accuracy: 0.5394\n",
            "Epoch 10/120\n",
            "196/196 [==============================] - 1s 4ms/step - loss: 1.0839 - accuracy: 0.5161 - val_loss: 1.0765 - val_accuracy: 0.3545\n",
            "Epoch 11/120\n",
            "196/196 [==============================] - 1s 4ms/step - loss: 1.0657 - accuracy: 0.5369 - val_loss: 1.0595 - val_accuracy: 0.5848\n",
            "Epoch 12/120\n",
            "196/196 [==============================] - 1s 4ms/step - loss: 1.0503 - accuracy: 0.5871 - val_loss: 1.0338 - val_accuracy: 0.6936\n",
            "Epoch 13/120\n",
            "196/196 [==============================] - 1s 4ms/step - loss: 1.0293 - accuracy: 0.6169 - val_loss: 1.0203 - val_accuracy: 0.5340\n",
            "Epoch 14/120\n",
            "196/196 [==============================] - 1s 6ms/step - loss: 1.0072 - accuracy: 0.6383 - val_loss: 0.9961 - val_accuracy: 0.5240\n",
            "Epoch 15/120\n",
            "196/196 [==============================] - 1s 6ms/step - loss: 0.9774 - accuracy: 0.6639 - val_loss: 0.9652 - val_accuracy: 0.6963\n",
            "Epoch 16/120\n",
            "196/196 [==============================] - 1s 4ms/step - loss: 0.9418 - accuracy: 0.6921 - val_loss: 0.9291 - val_accuracy: 0.6002\n",
            "Epoch 17/120\n",
            "196/196 [==============================] - 1s 4ms/step - loss: 0.9017 - accuracy: 0.7024 - val_loss: 0.8829 - val_accuracy: 0.8178\n",
            "Epoch 18/120\n",
            "196/196 [==============================] - 1s 5ms/step - loss: 0.8533 - accuracy: 0.7304 - val_loss: 0.8430 - val_accuracy: 0.7289\n",
            "Epoch 19/120\n",
            "196/196 [==============================] - 1s 4ms/step - loss: 0.8055 - accuracy: 0.7486 - val_loss: 0.7899 - val_accuracy: 0.7761\n",
            "Epoch 20/120\n",
            "196/196 [==============================] - 1s 4ms/step - loss: 0.7571 - accuracy: 0.7681 - val_loss: 0.7547 - val_accuracy: 0.7706\n",
            "Epoch 21/120\n",
            "196/196 [==============================] - 1s 4ms/step - loss: 0.7134 - accuracy: 0.7864 - val_loss: 0.7150 - val_accuracy: 0.8187\n",
            "Epoch 22/120\n",
            "196/196 [==============================] - 1s 4ms/step - loss: 0.6739 - accuracy: 0.8032 - val_loss: 0.6977 - val_accuracy: 0.7552\n",
            "Epoch 23/120\n",
            "196/196 [==============================] - 1s 4ms/step - loss: 0.6364 - accuracy: 0.8142 - val_loss: 0.6529 - val_accuracy: 0.8241\n",
            "Epoch 24/120\n",
            "196/196 [==============================] - 1s 4ms/step - loss: 0.5999 - accuracy: 0.8334 - val_loss: 0.6321 - val_accuracy: 0.7688\n",
            "Epoch 25/120\n",
            "196/196 [==============================] - 1s 4ms/step - loss: 0.5649 - accuracy: 0.8384 - val_loss: 0.5952 - val_accuracy: 0.7978\n",
            "Epoch 26/120\n",
            "196/196 [==============================] - 1s 4ms/step - loss: 0.5306 - accuracy: 0.8477 - val_loss: 0.5580 - val_accuracy: 0.8731\n",
            "Epoch 27/120\n",
            "196/196 [==============================] - 1s 4ms/step - loss: 0.4976 - accuracy: 0.8557 - val_loss: 0.5310 - val_accuracy: 0.8740\n",
            "Epoch 28/120\n",
            "196/196 [==============================] - 1s 4ms/step - loss: 0.4681 - accuracy: 0.8592 - val_loss: 0.5057 - val_accuracy: 0.8903\n",
            "Epoch 29/120\n",
            "196/196 [==============================] - 1s 4ms/step - loss: 0.4406 - accuracy: 0.8677 - val_loss: 0.4973 - val_accuracy: 0.8749\n",
            "Epoch 30/120\n",
            "196/196 [==============================] - 1s 4ms/step - loss: 0.4163 - accuracy: 0.8713 - val_loss: 0.4699 - val_accuracy: 0.8840\n",
            "Epoch 31/120\n",
            "196/196 [==============================] - 1s 4ms/step - loss: 0.3930 - accuracy: 0.8792 - val_loss: 0.4524 - val_accuracy: 0.8649\n",
            "Epoch 32/120\n",
            "196/196 [==============================] - 1s 4ms/step - loss: 0.3738 - accuracy: 0.8822 - val_loss: 0.4312 - val_accuracy: 0.8912\n",
            "Epoch 33/120\n",
            "196/196 [==============================] - 1s 4ms/step - loss: 0.3553 - accuracy: 0.8873 - val_loss: 0.4169 - val_accuracy: 0.8930\n",
            "Epoch 34/120\n",
            "196/196 [==============================] - 1s 4ms/step - loss: 0.3386 - accuracy: 0.8909 - val_loss: 0.4137 - val_accuracy: 0.8803\n",
            "Epoch 35/120\n",
            "196/196 [==============================] - 1s 4ms/step - loss: 0.3236 - accuracy: 0.8947 - val_loss: 0.3961 - val_accuracy: 0.9012\n",
            "Epoch 36/120\n",
            "196/196 [==============================] - 1s 4ms/step - loss: 0.3088 - accuracy: 0.9001 - val_loss: 0.4009 - val_accuracy: 0.8876\n",
            "Epoch 37/120\n",
            "196/196 [==============================] - 1s 4ms/step - loss: 0.2951 - accuracy: 0.9030 - val_loss: 0.3820 - val_accuracy: 0.9021\n",
            "Epoch 38/120\n",
            "196/196 [==============================] - 1s 4ms/step - loss: 0.2827 - accuracy: 0.9109 - val_loss: 0.3822 - val_accuracy: 0.8994\n",
            "Epoch 39/120\n",
            "196/196 [==============================] - 1s 4ms/step - loss: 0.2711 - accuracy: 0.9113 - val_loss: 0.3630 - val_accuracy: 0.9084\n",
            "Epoch 40/120\n",
            "196/196 [==============================] - 1s 4ms/step - loss: 0.2601 - accuracy: 0.9168 - val_loss: 0.3547 - val_accuracy: 0.9112\n",
            "Epoch 41/120\n",
            "196/196 [==============================] - 1s 4ms/step - loss: 0.2498 - accuracy: 0.9208 - val_loss: 0.3505 - val_accuracy: 0.9121\n",
            "Epoch 42/120\n",
            "196/196 [==============================] - 1s 4ms/step - loss: 0.2394 - accuracy: 0.9245 - val_loss: 0.3505 - val_accuracy: 0.9048\n",
            "Epoch 43/120\n",
            "196/196 [==============================] - 1s 4ms/step - loss: 0.2305 - accuracy: 0.9291 - val_loss: 0.3454 - val_accuracy: 0.9130\n",
            "Epoch 44/120\n",
            "196/196 [==============================] - 1s 4ms/step - loss: 0.2212 - accuracy: 0.9320 - val_loss: 0.3506 - val_accuracy: 0.9093\n",
            "Epoch 45/120\n",
            "196/196 [==============================] - 1s 4ms/step - loss: 0.2125 - accuracy: 0.9350 - val_loss: 0.3547 - val_accuracy: 0.9102\n",
            "Epoch 46/120\n",
            "196/196 [==============================] - 1s 4ms/step - loss: 0.2049 - accuracy: 0.9355 - val_loss: 0.3273 - val_accuracy: 0.9093\n",
            "Epoch 47/120\n",
            "196/196 [==============================] - 1s 4ms/step - loss: 0.1977 - accuracy: 0.9394 - val_loss: 0.3355 - val_accuracy: 0.9093\n",
            "Epoch 48/120\n",
            "196/196 [==============================] - 1s 4ms/step - loss: 0.1907 - accuracy: 0.9395 - val_loss: 0.3298 - val_accuracy: 0.9139\n",
            "Epoch 49/120\n",
            "196/196 [==============================] - 1s 4ms/step - loss: 0.1833 - accuracy: 0.9422 - val_loss: 0.3232 - val_accuracy: 0.9066\n",
            "Epoch 50/120\n",
            "196/196 [==============================] - 1s 4ms/step - loss: 0.1772 - accuracy: 0.9456 - val_loss: 0.3234 - val_accuracy: 0.9093\n",
            "Epoch 51/120\n",
            "196/196 [==============================] - 1s 4ms/step - loss: 0.1716 - accuracy: 0.9467 - val_loss: 0.3174 - val_accuracy: 0.9066\n",
            "Epoch 52/120\n",
            "196/196 [==============================] - 1s 4ms/step - loss: 0.1654 - accuracy: 0.9488 - val_loss: 0.3352 - val_accuracy: 0.9121\n",
            "Epoch 53/120\n",
            "196/196 [==============================] - 1s 4ms/step - loss: 0.1602 - accuracy: 0.9520 - val_loss: 0.3220 - val_accuracy: 0.9102\n",
            "Epoch 54/120\n",
            "196/196 [==============================] - 1s 4ms/step - loss: 0.1551 - accuracy: 0.9517 - val_loss: 0.3152 - val_accuracy: 0.9012\n",
            "Epoch 55/120\n",
            "196/196 [==============================] - 1s 4ms/step - loss: 0.1501 - accuracy: 0.9547 - val_loss: 0.3117 - val_accuracy: 0.9039\n",
            "Epoch 56/120\n",
            "196/196 [==============================] - 1s 4ms/step - loss: 0.1454 - accuracy: 0.9563 - val_loss: 0.3014 - val_accuracy: 0.9039\n",
            "Epoch 57/120\n",
            "196/196 [==============================] - 1s 5ms/step - loss: 0.1417 - accuracy: 0.9570 - val_loss: 0.3101 - val_accuracy: 0.9084\n",
            "Epoch 58/120\n",
            "196/196 [==============================] - 1s 7ms/step - loss: 0.1374 - accuracy: 0.9581 - val_loss: 0.3107 - val_accuracy: 0.9102\n",
            "Epoch 59/120\n",
            "196/196 [==============================] - 1s 7ms/step - loss: 0.1333 - accuracy: 0.9594 - val_loss: 0.3025 - val_accuracy: 0.9057\n",
            "Epoch 60/120\n",
            "196/196 [==============================] - 1s 6ms/step - loss: 0.1296 - accuracy: 0.9603 - val_loss: 0.3003 - val_accuracy: 0.9021\n",
            "Epoch 61/120\n",
            "196/196 [==============================] - 1s 4ms/step - loss: 0.1256 - accuracy: 0.9643 - val_loss: 0.2887 - val_accuracy: 0.9039\n",
            "Epoch 62/120\n",
            "196/196 [==============================] - 1s 4ms/step - loss: 0.1227 - accuracy: 0.9642 - val_loss: 0.2906 - val_accuracy: 0.9030\n",
            "Epoch 63/120\n",
            "196/196 [==============================] - 1s 4ms/step - loss: 0.1195 - accuracy: 0.9642 - val_loss: 0.3019 - val_accuracy: 0.9048\n",
            "Epoch 64/120\n",
            "196/196 [==============================] - 1s 4ms/step - loss: 0.1165 - accuracy: 0.9669 - val_loss: 0.2894 - val_accuracy: 0.9021\n",
            "Epoch 65/120\n",
            "196/196 [==============================] - 1s 4ms/step - loss: 0.1138 - accuracy: 0.9661 - val_loss: 0.2929 - val_accuracy: 0.9030\n",
            "Epoch 66/120\n",
            "196/196 [==============================] - 1s 4ms/step - loss: 0.1107 - accuracy: 0.9680 - val_loss: 0.3128 - val_accuracy: 0.9075\n",
            "Epoch 67/120\n",
            "196/196 [==============================] - 1s 4ms/step - loss: 0.1077 - accuracy: 0.9688 - val_loss: 0.2893 - val_accuracy: 0.9030\n",
            "Epoch 68/120\n",
            "196/196 [==============================] - 1s 4ms/step - loss: 0.1057 - accuracy: 0.9699 - val_loss: 0.2960 - val_accuracy: 0.9030\n",
            "Epoch 69/120\n",
            "196/196 [==============================] - 1s 4ms/step - loss: 0.1033 - accuracy: 0.9704 - val_loss: 0.2997 - val_accuracy: 0.9057\n",
            "Epoch 70/120\n",
            "196/196 [==============================] - 1s 4ms/step - loss: 0.1011 - accuracy: 0.9712 - val_loss: 0.2893 - val_accuracy: 0.9039\n",
            "Epoch 71/120\n",
            "196/196 [==============================] - 1s 4ms/step - loss: 0.0988 - accuracy: 0.9733 - val_loss: 0.2860 - val_accuracy: 0.9030\n",
            "Epoch 72/120\n",
            "196/196 [==============================] - 1s 4ms/step - loss: 0.0967 - accuracy: 0.9734 - val_loss: 0.2838 - val_accuracy: 0.9048\n",
            "Epoch 73/120\n",
            "196/196 [==============================] - 1s 4ms/step - loss: 0.0948 - accuracy: 0.9746 - val_loss: 0.2830 - val_accuracy: 0.9021\n",
            "Epoch 74/120\n",
            "196/196 [==============================] - 1s 4ms/step - loss: 0.0929 - accuracy: 0.9746 - val_loss: 0.2770 - val_accuracy: 0.9048\n",
            "Epoch 75/120\n",
            "196/196 [==============================] - 1s 4ms/step - loss: 0.0912 - accuracy: 0.9758 - val_loss: 0.2742 - val_accuracy: 0.9030\n",
            "Epoch 76/120\n",
            "196/196 [==============================] - 1s 4ms/step - loss: 0.0893 - accuracy: 0.9750 - val_loss: 0.2677 - val_accuracy: 0.9012\n",
            "Epoch 77/120\n",
            "196/196 [==============================] - 1s 4ms/step - loss: 0.0874 - accuracy: 0.9763 - val_loss: 0.2800 - val_accuracy: 0.9066\n",
            "Epoch 78/120\n",
            "196/196 [==============================] - 1s 4ms/step - loss: 0.0858 - accuracy: 0.9763 - val_loss: 0.2681 - val_accuracy: 0.9021\n",
            "Epoch 79/120\n",
            "196/196 [==============================] - 1s 4ms/step - loss: 0.0843 - accuracy: 0.9765 - val_loss: 0.2678 - val_accuracy: 0.9012\n",
            "Epoch 80/120\n",
            "196/196 [==============================] - 1s 4ms/step - loss: 0.0825 - accuracy: 0.9779 - val_loss: 0.2678 - val_accuracy: 0.9039\n",
            "Epoch 81/120\n",
            "196/196 [==============================] - 1s 4ms/step - loss: 0.0812 - accuracy: 0.9779 - val_loss: 0.2628 - val_accuracy: 0.9030\n",
            "Epoch 82/120\n",
            "196/196 [==============================] - 1s 4ms/step - loss: 0.0798 - accuracy: 0.9778 - val_loss: 0.2649 - val_accuracy: 0.9021\n",
            "Epoch 83/120\n",
            "196/196 [==============================] - 1s 4ms/step - loss: 0.0784 - accuracy: 0.9787 - val_loss: 0.2694 - val_accuracy: 0.9057\n",
            "Epoch 84/120\n",
            "196/196 [==============================] - 1s 4ms/step - loss: 0.0773 - accuracy: 0.9787 - val_loss: 0.2647 - val_accuracy: 0.9030\n",
            "Epoch 85/120\n",
            "196/196 [==============================] - 1s 4ms/step - loss: 0.0759 - accuracy: 0.9790 - val_loss: 0.2672 - val_accuracy: 0.9021\n",
            "Epoch 86/120\n",
            "196/196 [==============================] - 1s 4ms/step - loss: 0.0744 - accuracy: 0.9805 - val_loss: 0.2594 - val_accuracy: 0.9048\n",
            "Epoch 87/120\n",
            "196/196 [==============================] - 1s 4ms/step - loss: 0.0735 - accuracy: 0.9806 - val_loss: 0.2649 - val_accuracy: 0.9066\n",
            "Epoch 88/120\n",
            "196/196 [==============================] - 1s 4ms/step - loss: 0.0723 - accuracy: 0.9805 - val_loss: 0.2550 - val_accuracy: 0.9048\n",
            "Epoch 89/120\n",
            "196/196 [==============================] - 1s 4ms/step - loss: 0.0711 - accuracy: 0.9803 - val_loss: 0.2615 - val_accuracy: 0.9057\n",
            "Epoch 90/120\n",
            "196/196 [==============================] - 1s 4ms/step - loss: 0.0702 - accuracy: 0.9805 - val_loss: 0.2504 - val_accuracy: 0.9048\n",
            "Epoch 91/120\n",
            "196/196 [==============================] - 1s 4ms/step - loss: 0.0694 - accuracy: 0.9810 - val_loss: 0.2542 - val_accuracy: 0.9093\n",
            "Epoch 92/120\n",
            "196/196 [==============================] - 1s 4ms/step - loss: 0.0683 - accuracy: 0.9811 - val_loss: 0.2505 - val_accuracy: 0.9075\n",
            "Epoch 93/120\n",
            "196/196 [==============================] - 1s 5ms/step - loss: 0.0671 - accuracy: 0.9818 - val_loss: 0.2545 - val_accuracy: 0.9075\n",
            "Epoch 94/120\n",
            "196/196 [==============================] - 1s 4ms/step - loss: 0.0663 - accuracy: 0.9814 - val_loss: 0.2549 - val_accuracy: 0.9075\n",
            "Epoch 95/120\n",
            "196/196 [==============================] - 1s 4ms/step - loss: 0.0654 - accuracy: 0.9814 - val_loss: 0.2558 - val_accuracy: 0.9075\n",
            "Epoch 96/120\n",
            "196/196 [==============================] - 1s 4ms/step - loss: 0.0638 - accuracy: 0.9826 - val_loss: 0.2466 - val_accuracy: 0.9093\n",
            "Epoch 97/120\n",
            "196/196 [==============================] - 1s 4ms/step - loss: 0.0635 - accuracy: 0.9818 - val_loss: 0.2543 - val_accuracy: 0.9084\n",
            "Epoch 98/120\n",
            "196/196 [==============================] - 1s 4ms/step - loss: 0.0628 - accuracy: 0.9819 - val_loss: 0.2526 - val_accuracy: 0.9093\n",
            "Epoch 99/120\n",
            "196/196 [==============================] - 1s 4ms/step - loss: 0.0618 - accuracy: 0.9834 - val_loss: 0.2562 - val_accuracy: 0.9075\n",
            "Epoch 100/120\n",
            "196/196 [==============================] - 1s 4ms/step - loss: 0.0610 - accuracy: 0.9838 - val_loss: 0.2443 - val_accuracy: 0.9084\n",
            "Epoch 101/120\n",
            "196/196 [==============================] - 1s 4ms/step - loss: 0.0600 - accuracy: 0.9829 - val_loss: 0.2565 - val_accuracy: 0.9066\n",
            "Epoch 102/120\n",
            "196/196 [==============================] - 1s 4ms/step - loss: 0.0599 - accuracy: 0.9842 - val_loss: 0.2429 - val_accuracy: 0.9084\n",
            "Epoch 103/120\n",
            "196/196 [==============================] - 1s 4ms/step - loss: 0.0591 - accuracy: 0.9838 - val_loss: 0.2396 - val_accuracy: 0.9093\n",
            "Epoch 104/120\n",
            "196/196 [==============================] - 1s 4ms/step - loss: 0.0583 - accuracy: 0.9840 - val_loss: 0.2403 - val_accuracy: 0.9102\n",
            "Epoch 105/120\n",
            "196/196 [==============================] - 1s 4ms/step - loss: 0.0573 - accuracy: 0.9840 - val_loss: 0.2456 - val_accuracy: 0.9084\n",
            "Epoch 106/120\n",
            "196/196 [==============================] - 1s 4ms/step - loss: 0.0564 - accuracy: 0.9843 - val_loss: 0.2451 - val_accuracy: 0.9093\n",
            "Epoch 107/120\n",
            "196/196 [==============================] - 1s 4ms/step - loss: 0.0562 - accuracy: 0.9842 - val_loss: 0.2410 - val_accuracy: 0.9121\n",
            "Epoch 108/120\n",
            "196/196 [==============================] - 1s 4ms/step - loss: 0.0556 - accuracy: 0.9850 - val_loss: 0.2375 - val_accuracy: 0.9130\n",
            "Epoch 109/120\n",
            "196/196 [==============================] - 1s 4ms/step - loss: 0.0549 - accuracy: 0.9851 - val_loss: 0.2353 - val_accuracy: 0.9139\n",
            "Epoch 110/120\n",
            "196/196 [==============================] - 1s 4ms/step - loss: 0.0545 - accuracy: 0.9850 - val_loss: 0.2421 - val_accuracy: 0.9130\n",
            "Epoch 111/120\n",
            "196/196 [==============================] - 1s 4ms/step - loss: 0.0535 - accuracy: 0.9856 - val_loss: 0.2425 - val_accuracy: 0.9139\n",
            "Epoch 112/120\n",
            "196/196 [==============================] - 1s 4ms/step - loss: 0.0532 - accuracy: 0.9856 - val_loss: 0.2421 - val_accuracy: 0.9139\n",
            "Epoch 113/120\n",
            "196/196 [==============================] - 1s 5ms/step - loss: 0.0525 - accuracy: 0.9853 - val_loss: 0.2377 - val_accuracy: 0.9139\n",
            "Epoch 114/120\n",
            "196/196 [==============================] - 1s 4ms/step - loss: 0.0520 - accuracy: 0.9859 - val_loss: 0.2348 - val_accuracy: 0.9139\n",
            "Epoch 115/120\n",
            "196/196 [==============================] - 1s 4ms/step - loss: 0.0516 - accuracy: 0.9858 - val_loss: 0.2330 - val_accuracy: 0.9157\n",
            "Epoch 116/120\n",
            "196/196 [==============================] - 1s 4ms/step - loss: 0.0510 - accuracy: 0.9858 - val_loss: 0.2392 - val_accuracy: 0.9139\n",
            "Epoch 117/120\n",
            "196/196 [==============================] - 1s 6ms/step - loss: 0.0503 - accuracy: 0.9867 - val_loss: 0.2297 - val_accuracy: 0.9175\n",
            "Epoch 118/120\n",
            "196/196 [==============================] - 1s 5ms/step - loss: 0.0500 - accuracy: 0.9862 - val_loss: 0.2295 - val_accuracy: 0.9184\n",
            "Epoch 119/120\n",
            "196/196 [==============================] - 1s 4ms/step - loss: 0.0494 - accuracy: 0.9866 - val_loss: 0.2276 - val_accuracy: 0.9175\n",
            "Epoch 120/120\n",
            "196/196 [==============================] - 1s 4ms/step - loss: 0.0491 - accuracy: 0.9850 - val_loss: 0.2339 - val_accuracy: 0.9157\n",
            "training time =  142.32258582115173\n"
          ]
        }
      ]
    },
    {
      "cell_type": "markdown",
      "source": [
        "## **Conclusion**"
      ],
      "metadata": {
        "id": "EpY384BISKJ7"
      }
    },
    {
      "cell_type": "markdown",
      "source": [
        "We use TensorFlow to implement an MLP classifier for the Kaggle dataset.\n",
        "\n",
        "Given the architecture used (3 hidden layers with 256 units), we reach an accuracy score of about 98.5% in 120 epochs. \n",
        "\n",
        "The training time is 2 minutes 22 seconds. "
      ],
      "metadata": {
        "id": "z03zhWh5SM8_"
      }
    }
  ]
}