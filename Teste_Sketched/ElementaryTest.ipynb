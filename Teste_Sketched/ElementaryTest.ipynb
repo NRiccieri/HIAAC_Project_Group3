{
 "cells": [
  {
   "cell_type": "code",
   "execution_count": 2,
   "id": "b1259ced",
   "metadata": {},
   "outputs": [],
   "source": [
    "import torch\n",
    "import numpy as np\n",
    "from sketched_optimizer import SketchedSGD, SketchedSum, SketchedModel"
   ]
  },
  {
   "cell_type": "code",
   "execution_count": 3,
   "id": "d6dd50da",
   "metadata": {},
   "outputs": [],
   "source": [
    "X = torch.randn(1000, 3)\n",
    "w = torch.tensor([[.1],[.2],[.3]])"
   ]
  },
  {
   "cell_type": "code",
   "execution_count": 4,
   "id": "0e34fa3a",
   "metadata": {},
   "outputs": [],
   "source": [
    "y = torch.matmul(X,w)"
   ]
  },
  {
   "cell_type": "code",
   "execution_count": 5,
   "id": "94483d29",
   "metadata": {},
   "outputs": [
    {
     "data": {
      "text/plain": [
       "torch.Size([1000, 1])"
      ]
     },
     "execution_count": 5,
     "metadata": {},
     "output_type": "execute_result"
    }
   ],
   "source": [
    "y.shape"
   ]
  },
  {
   "cell_type": "code",
   "execution_count": 6,
   "id": "d838aa2a",
   "metadata": {},
   "outputs": [],
   "source": [
    "model = torch.nn.Sequential(torch.nn.Linear(3, 1))\n",
    "model = SketchedModel(model)"
   ]
  },
  {
   "cell_type": "code",
   "execution_count": 7,
   "id": "f94a2dd5",
   "metadata": {},
   "outputs": [],
   "source": [
    "opt = torch.optim.SGD(model.parameters(), lr=0.0001)\n",
    "opt = SketchedSGD(opt, k=1, accumulateError=True, p1=0, p2=2)"
   ]
  },
  {
   "cell_type": "code",
   "execution_count": 8,
   "id": "8148d542",
   "metadata": {},
   "outputs": [
    {
     "name": "stdout",
     "output_type": "stream",
     "text": [
      "device cpu\n",
      "D: 4\n",
      "sketchMask.sum(): 3\n",
      "making sketches\n"
     ]
    }
   ],
   "source": [
    "summer = SketchedSum(opt, c=20, r=5, numWorkers=4)"
   ]
  },
  {
   "cell_type": "code",
   "execution_count": 9,
   "id": "cfe5aad1",
   "metadata": {},
   "outputs": [
    {
     "data": {
      "text/plain": [
       "437.2314147949219"
      ]
     },
     "execution_count": 9,
     "metadata": {},
     "output_type": "execute_result"
    }
   ],
   "source": [
    "yPred = model(X)\n",
    "loss = (yPred - y)**2\n",
    "loss = summer(loss)\n",
    "loss.item()"
   ]
  },
  {
   "cell_type": "code",
   "execution_count": 10,
   "id": "05a30a42",
   "metadata": {},
   "outputs": [
    {
     "name": "stdout",
     "output_type": "stream",
     "text": [
      "[0] Loss: 437.2314147949219\n",
      "[1] Loss: 297.7415771484375\n",
      "[2] Loss: 207.2788848876953\n",
      "[3] Loss: 169.70272827148438\n",
      "[4] Loss: 79.09648895263672\n",
      "[5] Loss: 69.72575378417969\n",
      "[6] Loss: 34.21181106567383\n",
      "[7] Loss: 25.62523078918457\n",
      "[8] Loss: 11.616199493408203\n",
      "[9] Loss: 7.967192649841309\n",
      "[10] Loss: 6.996339797973633\n",
      "[11] Loss: 3.413329601287842\n",
      "[12] Loss: 2.564345359802246\n",
      "[13] Loss: 1.1465332508087158\n",
      "[14] Loss: 0.77061927318573\n",
      "[15] Loss: 0.65976881980896\n",
      "[16] Loss: 0.29584410786628723\n",
      "[17] Loss: 0.19905538856983185\n",
      "[18] Loss: 0.16993792355060577\n",
      "[19] Loss: 0.07712558656930923\n"
     ]
    }
   ],
   "source": [
    "for i in range(20):\n",
    "    opt.zero_grad()\n",
    "\n",
    "    yPred = model(X)\n",
    "    loss = (yPred - y)**2\n",
    "\n",
    "    loss = summer(loss)\n",
    "\n",
    "    print(\"[{}] Loss: {}\".format(i, loss.item()))\n",
    "\n",
    "    loss.backward()\n",
    "\n",
    "    opt.step()"
   ]
  },
  {
   "cell_type": "code",
   "execution_count": 11,
   "id": "d19d5afd",
   "metadata": {},
   "outputs": [
    {
     "name": "stdout",
     "output_type": "stream",
     "text": [
      "0.weight: [[0.09954208 0.19264236 0.2991756 ]]\n",
      "0.bias: [-0.00363863]\n"
     ]
    }
   ],
   "source": [
    "for name, parameter in model.model.named_parameters():\n",
    "    print(f'{name}: {parameter.detach().numpy()}')"
   ]
  },
  {
   "cell_type": "code",
   "execution_count": 161,
   "id": "b916e623",
   "metadata": {},
   "outputs": [
    {
     "data": {
      "text/plain": [
       "<All keys matched successfully>"
      ]
     },
     "execution_count": 161,
     "metadata": {},
     "output_type": "execute_result"
    }
   ],
   "source": [
    "#state_dict = model.state_dict()\n",
    "#state_dict['0.weight'] = torch.tensor([[0.11,0.22,0.33]])\n",
    "#state_dict['0.bias'] = torch.tensor([0.0])\n",
    "#model.load_state_dict(state_dict)"
   ]
  }
 ],
 "metadata": {
  "kernelspec": {
   "display_name": "Python 3 (ipykernel)",
   "language": "python",
   "name": "python3"
  },
  "language_info": {
   "codemirror_mode": {
    "name": "ipython",
    "version": 3
   },
   "file_extension": ".py",
   "mimetype": "text/x-python",
   "name": "python",
   "nbconvert_exporter": "python",
   "pygments_lexer": "ipython3",
   "version": "3.7.13"
  }
 },
 "nbformat": 4,
 "nbformat_minor": 5
}
