{
 "cells": [
  {
   "cell_type": "code",
   "execution_count": 156,
   "id": "b1259ced",
   "metadata": {},
   "outputs": [],
   "source": [
    "import torch\n",
    "import numpy as np\n",
    "from sketched_optimizer import SketchedSGD, SketchedSum, SketchedModel"
   ]
  },
  {
   "cell_type": "code",
   "execution_count": 157,
   "id": "d6dd50da",
   "metadata": {},
   "outputs": [],
   "source": [
    "X = torch.randn(1000, 3)\n",
    "w = torch.tensor([[.1],[.2],[.3]])"
   ]
  },
  {
   "cell_type": "code",
   "execution_count": 158,
   "id": "0e34fa3a",
   "metadata": {},
   "outputs": [],
   "source": [
    "y = torch.matmul(X,w)"
   ]
  },
  {
   "cell_type": "code",
   "execution_count": 159,
   "id": "94483d29",
   "metadata": {},
   "outputs": [
    {
     "data": {
      "text/plain": [
       "torch.Size([1000, 1])"
      ]
     },
     "execution_count": 159,
     "metadata": {},
     "output_type": "execute_result"
    }
   ],
   "source": [
    "y.shape"
   ]
  },
  {
   "cell_type": "code",
   "execution_count": 160,
   "id": "d838aa2a",
   "metadata": {},
   "outputs": [],
   "source": [
    "model = torch.nn.Sequential(torch.nn.Linear(3, 1))\n",
    "model = SketchedModel(model)"
   ]
  },
  {
   "cell_type": "code",
   "execution_count": 162,
   "id": "f94a2dd5",
   "metadata": {},
   "outputs": [],
   "source": [
    "opt = torch.optim.SGD(model.parameters(), lr=0.001)\n",
    "opt = SketchedSGD(opt, k=0, accumulateError=True, p1=0, p2=4)"
   ]
  },
  {
   "cell_type": "code",
   "execution_count": 163,
   "id": "8148d542",
   "metadata": {},
   "outputs": [
    {
     "name": "stdout",
     "output_type": "stream",
     "text": [
      "device cpu\n",
      "D: 4\n",
      "sketchMask.sum(): 3\n",
      "making sketches\n"
     ]
    }
   ],
   "source": [
    "summer = SketchedSum(opt, c=20, r=5, numWorkers=4)"
   ]
  },
  {
   "cell_type": "code",
   "execution_count": 153,
   "id": "cfe5aad1",
   "metadata": {},
   "outputs": [
    {
     "data": {
      "text/plain": [
       "0.0"
      ]
     },
     "execution_count": 153,
     "metadata": {},
     "output_type": "execute_result"
    }
   ],
   "source": [
    "yPred = model(X)\n",
    "loss = (yPred - y)**2\n",
    "loss = summer(loss)\n",
    "loss.item()"
   ]
  },
  {
   "cell_type": "code",
   "execution_count": 164,
   "id": "05a30a42",
   "metadata": {},
   "outputs": [
    {
     "name": "stdout",
     "output_type": "stream",
     "text": [
      "[0] Loss: 1.3317620754241943\n",
      "[1] Loss: 1.3317620754241943\n",
      "[2] Loss: 1.3317620754241943\n",
      "[3] Loss: 1.3317620754241943\n",
      "[4] Loss: 1.3317620754241943\n",
      "[5] Loss: 1.3317620754241943\n",
      "[6] Loss: 1.3317620754241943\n",
      "[7] Loss: 1.3317620754241943\n",
      "[8] Loss: 1.3317620754241943\n",
      "[9] Loss: 1.3317620754241943\n",
      "[10] Loss: 1.3317620754241943\n",
      "[11] Loss: 1.3317620754241943\n",
      "[12] Loss: 1.3317620754241943\n",
      "[13] Loss: 1.3317620754241943\n",
      "[14] Loss: 1.3317620754241943\n",
      "[15] Loss: 1.3317620754241943\n",
      "[16] Loss: 1.3317620754241943\n",
      "[17] Loss: 1.3317620754241943\n",
      "[18] Loss: 1.3317620754241943\n",
      "[19] Loss: 1.3317620754241943\n"
     ]
    }
   ],
   "source": [
    "for i in range(20):\n",
    "    opt.zero_grad()\n",
    "\n",
    "    yPred = model(X)\n",
    "    loss = (yPred - y)**2\n",
    "\n",
    "    loss = summer(loss)\n",
    "\n",
    "    print(\"[{}] Loss: {}\".format(i, loss.item()))\n",
    "\n",
    "    loss.backward()\n",
    "\n",
    "    opt.step()"
   ]
  },
  {
   "cell_type": "code",
   "execution_count": 161,
   "id": "b916e623",
   "metadata": {},
   "outputs": [
    {
     "data": {
      "text/plain": [
       "<All keys matched successfully>"
      ]
     },
     "execution_count": 161,
     "metadata": {},
     "output_type": "execute_result"
    }
   ],
   "source": [
    "state_dict = model.state_dict()\n",
    "state_dict['0.weight'] = torch.tensor([[0.11,0.22,0.33]])\n",
    "state_dict['0.bias'] = torch.tensor([0.0])\n",
    "model.load_state_dict(state_dict)"
   ]
  }
 ],
 "metadata": {
  "kernelspec": {
   "display_name": "Python 3 (ipykernel)",
   "language": "python",
   "name": "python3"
  },
  "language_info": {
   "codemirror_mode": {
    "name": "ipython",
    "version": 3
   },
   "file_extension": ".py",
   "mimetype": "text/x-python",
   "name": "python",
   "nbconvert_exporter": "python",
   "pygments_lexer": "ipython3",
   "version": "3.7.13"
  }
 },
 "nbformat": 4,
 "nbformat_minor": 5
}
