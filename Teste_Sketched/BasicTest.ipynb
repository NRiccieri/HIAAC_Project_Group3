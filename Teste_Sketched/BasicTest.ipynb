{
 "cells": [
  {
   "cell_type": "code",
   "execution_count": 2,
   "id": "b1259ced",
   "metadata": {},
   "outputs": [],
   "source": [
    "import torch\n",
    "import numpy as np\n",
    "from sketched_optimizer import SketchedSGD, SketchedSum, SketchedModel"
   ]
  },
  {
   "cell_type": "code",
   "execution_count": 3,
   "id": "2854284d",
   "metadata": {},
   "outputs": [
    {
     "data": {
      "text/plain": [
       "<torch._C.Generator at 0x7ff5701774f0>"
      ]
     },
     "execution_count": 3,
     "metadata": {},
     "output_type": "execute_result"
    }
   ],
   "source": [
    "torch.manual_seed(42)"
   ]
  },
  {
   "cell_type": "code",
   "execution_count": 4,
   "id": "d6dd50da",
   "metadata": {},
   "outputs": [],
   "source": [
    "X = torch.randn(1000, 200)\n",
    "y = torch.randn(1000, 1)"
   ]
  },
  {
   "cell_type": "code",
   "execution_count": 5,
   "id": "d838aa2a",
   "metadata": {},
   "outputs": [],
   "source": [
    "model = torch.nn.Sequential(torch.nn.Linear(200, 1))\n",
    "model = SketchedModel(model)"
   ]
  },
  {
   "cell_type": "code",
   "execution_count": 6,
   "id": "f94a2dd5",
   "metadata": {},
   "outputs": [],
   "source": [
    "opt = torch.optim.SGD(model.parameters(), lr=0.0001)\n",
    "opt = SketchedSGD(opt, k=20, accumulateError=True, p1=0, p2=4)"
   ]
  },
  {
   "cell_type": "code",
   "execution_count": 7,
   "id": "8148d542",
   "metadata": {},
   "outputs": [
    {
     "name": "stdout",
     "output_type": "stream",
     "text": [
      "device cpu\n",
      "D: 201\n",
      "sketchMask.sum(): 200\n",
      "making sketches\n"
     ]
    }
   ],
   "source": [
    "summer = SketchedSum(opt, c=20, r=5, numWorkers=4)"
   ]
  },
  {
   "cell_type": "code",
   "execution_count": 8,
   "id": "05a30a42",
   "metadata": {},
   "outputs": [
    {
     "name": "stdout",
     "output_type": "stream",
     "text": [
      "[0] Loss: 1388.0689697265625\n",
      "[1] Loss: 1326.46923828125\n",
      "[2] Loss: 1242.0758056640625\n",
      "[3] Loss: 1151.741455078125\n",
      "[4] Loss: 1084.7979736328125\n",
      "[5] Loss: 1040.520263671875\n",
      "[6] Loss: 1013.3145141601562\n",
      "[7] Loss: 988.5318603515625\n",
      "[8] Loss: 977.6910400390625\n",
      "[9] Loss: 959.6600952148438\n",
      "[10] Loss: 960.8826293945312\n",
      "[11] Loss: 951.4082641601562\n",
      "[12] Loss: 937.9306640625\n",
      "[13] Loss: 922.056396484375\n",
      "[14] Loss: 914.2968139648438\n",
      "[15] Loss: 905.56982421875\n",
      "[16] Loss: 903.2256469726562\n",
      "[17] Loss: 897.0650024414062\n",
      "[18] Loss: 895.7315063476562\n",
      "[19] Loss: 894.8016357421875\n"
     ]
    }
   ],
   "source": [
    "for i in range(20):\n",
    "    opt.zero_grad()\n",
    "\n",
    "    yPred = model(X)\n",
    "    loss = (yPred - y)**2\n",
    "\n",
    "    loss = summer(loss)\n",
    "\n",
    "    print(\"[{}] Loss: {}\".format(i, loss.item()))\n",
    "\n",
    "    loss.backward()\n",
    "\n",
    "    opt.step()"
   ]
  }
 ],
 "metadata": {
  "kernelspec": {
   "display_name": "Python 3 (ipykernel)",
   "language": "python",
   "name": "python3"
  },
  "language_info": {
   "codemirror_mode": {
    "name": "ipython",
    "version": 3
   },
   "file_extension": ".py",
   "mimetype": "text/x-python",
   "name": "python",
   "nbconvert_exporter": "python",
   "pygments_lexer": "ipython3",
   "version": "3.7.13"
  }
 },
 "nbformat": 4,
 "nbformat_minor": 5
}
