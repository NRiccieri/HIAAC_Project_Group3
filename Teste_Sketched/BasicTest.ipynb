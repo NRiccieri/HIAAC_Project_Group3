{
 "cells": [
  {
   "cell_type": "code",
   "execution_count": 33,
   "id": "b1259ced",
   "metadata": {},
   "outputs": [],
   "source": [
    "import torch\n",
    "import numpy as np\n",
    "from sketched_optimizer import SketchedSGD, SketchedSum, SketchedModel"
   ]
  },
  {
   "cell_type": "code",
   "execution_count": 34,
   "id": "2854284d",
   "metadata": {},
   "outputs": [
    {
     "data": {
      "text/plain": [
       "<torch._C.Generator at 0x7f5bd82524f0>"
      ]
     },
     "execution_count": 34,
     "metadata": {},
     "output_type": "execute_result"
    }
   ],
   "source": [
    "torch.manual_seed(42)"
   ]
  },
  {
   "cell_type": "code",
   "execution_count": 35,
   "id": "d6dd50da",
   "metadata": {},
   "outputs": [],
   "source": [
    "X = torch.randn(1000, 200)\n",
    "y = torch.randn(1000, 1)"
   ]
  },
  {
   "cell_type": "code",
   "execution_count": 36,
   "id": "d838aa2a",
   "metadata": {},
   "outputs": [],
   "source": [
    "model = torch.nn.Sequential(torch.nn.Linear(200, 1))\n",
    "model = SketchedModel(model)"
   ]
  },
  {
   "cell_type": "code",
   "execution_count": 37,
   "id": "f94a2dd5",
   "metadata": {},
   "outputs": [],
   "source": [
    "opt = torch.optim.SGD(model.parameters(), lr=0.0001)\n",
    "opt = SketchedSGD(opt, k=20, accumulateError=True, p1=0, p2=4)"
   ]
  },
  {
   "cell_type": "code",
   "execution_count": 38,
   "id": "8148d542",
   "metadata": {},
   "outputs": [
    {
     "name": "stdout",
     "output_type": "stream",
     "text": [
      "device cpu\n",
      "D: 201\n",
      "sketchMask.sum(): 200\n",
      "making sketches\n"
     ]
    }
   ],
   "source": [
    "summer = SketchedSum(opt, c=20, r=5, numWorkers=4)"
   ]
  },
  {
   "cell_type": "code",
   "execution_count": 39,
   "id": "05a30a42",
   "metadata": {},
   "outputs": [
    {
     "name": "stdout",
     "output_type": "stream",
     "text": [
      "[0] Loss: 1388.0689697265625\n",
      "[1] Loss: 1313.6832275390625\n",
      "[2] Loss: 1241.788330078125\n",
      "[3] Loss: 1185.1923828125\n",
      "[4] Loss: 1104.8922119140625\n",
      "[5] Loss: 1057.96728515625\n",
      "[6] Loss: 1015.166748046875\n",
      "[7] Loss: 978.1044921875\n",
      "[8] Loss: 958.5884399414062\n",
      "[9] Loss: 961.1203002929688\n",
      "[10] Loss: 946.3565063476562\n",
      "[11] Loss: 933.9336547851562\n",
      "[12] Loss: 919.291748046875\n",
      "[13] Loss: 910.0902099609375\n",
      "[14] Loss: 907.996826171875\n",
      "[15] Loss: 901.3619995117188\n",
      "[16] Loss: 896.0570068359375\n",
      "[17] Loss: 894.8767700195312\n",
      "[18] Loss: 892.8968505859375\n",
      "[19] Loss: 889.0687255859375\n"
     ]
    }
   ],
   "source": [
    "for i in range(20):\n",
    "    opt.zero_grad()\n",
    "\n",
    "    yPred = model(X)\n",
    "    loss = (yPred - y)**2\n",
    "\n",
    "    loss = summer(loss)\n",
    "\n",
    "    print(\"[{}] Loss: {}\".format(i, loss.item()))\n",
    "\n",
    "    loss.backward()\n",
    "\n",
    "    opt.step()"
   ]
  }
 ],
 "metadata": {
  "kernelspec": {
   "display_name": "Python 3 (ipykernel)",
   "language": "python",
   "name": "python3"
  },
  "language_info": {
   "codemirror_mode": {
    "name": "ipython",
    "version": 3
   },
   "file_extension": ".py",
   "mimetype": "text/x-python",
   "name": "python",
   "nbconvert_exporter": "python",
   "pygments_lexer": "ipython3",
   "version": "3.7.13"
  }
 },
 "nbformat": 4,
 "nbformat_minor": 5
}
