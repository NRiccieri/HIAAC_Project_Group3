{
 "cells": [
  {
   "cell_type": "code",
   "execution_count": 2,
   "metadata": {
    "colab": {
     "base_uri": "https://localhost:8080/",
     "height": 568,
     "referenced_widgets": [
      "85d2bb59b1714975ba7f3a8171e42684",
      "004cc7ee0a3b48899ccb665829e97610",
      "201120a1037c495e82b163c669a0cb16",
      "e6b0ab37405b4e0588f59cf3da5d11cb",
      "fedbcd98ee7a4277bf0153a958172461",
      "02fa296411ac4a20b1c15131ed0db5b0",
      "c2c7e69c444043acb61ce78b2f93c468",
      "2bb28f00859240a5a37a9a51f82b728e",
      "99695c39fe3247b99fac5e327997a16e",
      "8474422e0a7a45c981e10d8dbbb93934",
      "c1b81a2f591d47a4b5abe405ef51932c"
     ]
    },
    "executionInfo": {
     "elapsed": 271874,
     "status": "error",
     "timestamp": 1644257556110,
     "user": {
      "displayName": "Gabriel Oliveira Campos",
      "photoUrl": "https://lh3.googleusercontent.com/a-/AOh14GgBr0U7KDHmsEW3xtNlKUad7v4_dOGfSET5t-Y8zA=s64",
      "userId": "01923024401437611828"
     },
     "user_tz": 180
    },
    "id": "KrepWd93cpxq",
    "outputId": "b384e1fa-7560-4398-ec8f-90cb85a6cf05"
   },
   "outputs": [
    {
     "name": "stdout",
     "output_type": "stream",
     "text": [
      "Torch Version:  1.10.2\n",
      "Running 1 Experiments..\n",
      "\n",
      "Files already downloaded and verified\n",
      "Files already downloaded and verified\n",
      "\n",
      "Data: \n",
      " - Train Set: ((50000, 3, 32, 32),(50000,)), Range: [0.000, 255.000], Labels: 0,..,9\n",
      " - Test Set: ((10000, 3, 32, 32),(10000,)), Range: [0.000, 255.000], Labels: 0,..,9\n"
     ]
    },
    {
     "ename": "AssertionError",
     "evalue": "Torch not compiled with CUDA enabled",
     "output_type": "error",
     "traceback": [
      "\u001b[1;31m---------------------------------------------------------------------------\u001b[0m",
      "\u001b[1;31mAssertionError\u001b[0m                            Traceback (most recent call last)",
      "\u001b[1;32m~\\AppData\\Local\\Temp/ipykernel_30376/3391107605.py\u001b[0m in \u001b[0;36m<module>\u001b[1;34m\u001b[0m\n\u001b[0;32m    173\u001b[0m \u001b[1;33m\u001b[0m\u001b[0m\n\u001b[0;32m    174\u001b[0m \u001b[1;32mif\u001b[0m \u001b[0m__name__\u001b[0m \u001b[1;33m==\u001b[0m \u001b[1;34m\"__main__\"\u001b[0m\u001b[1;33m:\u001b[0m\u001b[1;33m\u001b[0m\u001b[1;33m\u001b[0m\u001b[0m\n\u001b[1;32m--> 175\u001b[1;33m   \u001b[0mrun_experiments\u001b[0m\u001b[1;33m(\u001b[0m\u001b[0mexperiments\u001b[0m\u001b[1;33m)\u001b[0m\u001b[1;33m\u001b[0m\u001b[1;33m\u001b[0m\u001b[0m\n\u001b[0m",
      "\u001b[1;32m~\\AppData\\Local\\Temp/ipykernel_30376/3391107605.py\u001b[0m in \u001b[0;36mrun_experiments\u001b[1;34m(experiments)\u001b[0m\n\u001b[0;32m     77\u001b[0m     \u001b[0mnet\u001b[0m \u001b[1;33m=\u001b[0m \u001b[0mgetattr\u001b[0m\u001b[1;33m(\u001b[0m\u001b[0mneural_nets\u001b[0m\u001b[1;33m,\u001b[0m \u001b[0mhp\u001b[0m\u001b[1;33m[\u001b[0m\u001b[1;34m'net'\u001b[0m\u001b[1;33m]\u001b[0m\u001b[1;33m)\u001b[0m\u001b[1;33m\u001b[0m\u001b[1;33m\u001b[0m\u001b[0m\n\u001b[0;32m     78\u001b[0m     \u001b[0mclients\u001b[0m \u001b[1;33m=\u001b[0m \u001b[1;33m[\u001b[0m\u001b[0mClient\u001b[0m\u001b[1;33m(\u001b[0m\u001b[0mloader\u001b[0m\u001b[1;33m,\u001b[0m \u001b[0mnet\u001b[0m\u001b[1;33m(\u001b[0m\u001b[1;33m)\u001b[0m\u001b[1;33m.\u001b[0m\u001b[0mto\u001b[0m\u001b[1;33m(\u001b[0m\u001b[0mdevice\u001b[0m\u001b[1;33m)\u001b[0m\u001b[1;33m,\u001b[0m \u001b[0mhp\u001b[0m\u001b[1;33m,\u001b[0m \u001b[0mxp\u001b[0m\u001b[1;33m,\u001b[0m \u001b[0mid_num\u001b[0m\u001b[1;33m=\u001b[0m\u001b[0mi\u001b[0m\u001b[1;33m)\u001b[0m \u001b[1;32mfor\u001b[0m \u001b[0mi\u001b[0m\u001b[1;33m,\u001b[0m \u001b[0mloader\u001b[0m \u001b[1;32min\u001b[0m \u001b[0menumerate\u001b[0m\u001b[1;33m(\u001b[0m\u001b[0mclient_loaders\u001b[0m\u001b[1;33m)\u001b[0m\u001b[1;33m]\u001b[0m\u001b[1;33m\u001b[0m\u001b[1;33m\u001b[0m\u001b[0m\n\u001b[1;32m---> 79\u001b[1;33m     \u001b[0mserver\u001b[0m \u001b[1;33m=\u001b[0m \u001b[0mServer\u001b[0m\u001b[1;33m(\u001b[0m\u001b[0mtest_loader\u001b[0m\u001b[1;33m,\u001b[0m \u001b[0mnet\u001b[0m\u001b[1;33m(\u001b[0m\u001b[1;33m)\u001b[0m\u001b[1;33m.\u001b[0m\u001b[0mto\u001b[0m\u001b[1;33m(\u001b[0m\u001b[0mdevice\u001b[0m\u001b[1;33m)\u001b[0m\u001b[1;33m,\u001b[0m \u001b[0mhp\u001b[0m\u001b[1;33m,\u001b[0m \u001b[0mxp\u001b[0m\u001b[1;33m,\u001b[0m \u001b[0mstats\u001b[0m\u001b[1;33m)\u001b[0m\u001b[1;33m\u001b[0m\u001b[1;33m\u001b[0m\u001b[0m\n\u001b[0m\u001b[0;32m     80\u001b[0m \u001b[1;33m\u001b[0m\u001b[0m\n\u001b[0;32m     81\u001b[0m     \u001b[1;31m# Print optimizer specs\u001b[0m\u001b[1;33m\u001b[0m\u001b[1;33m\u001b[0m\u001b[0m\n",
      "\u001b[1;32m~\\Mestrado\\ProjetoHIIAC\\STC-VGG19\\distributed_training_utils.py\u001b[0m in \u001b[0;36m__init__\u001b[1;34m(self, dataloader, model, hyperparameters, experiment, stats)\u001b[0m\n\u001b[0;32m    195\u001b[0m     \u001b[0mself\u001b[0m\u001b[1;33m.\u001b[0m\u001b[0mbits_sent\u001b[0m \u001b[1;33m=\u001b[0m \u001b[1;33m[\u001b[0m\u001b[1;33m]\u001b[0m\u001b[1;33m\u001b[0m\u001b[1;33m\u001b[0m\u001b[0m\n\u001b[0;32m    196\u001b[0m \u001b[1;33m\u001b[0m\u001b[0m\n\u001b[1;32m--> 197\u001b[1;33m     \u001b[0mself\u001b[0m\u001b[1;33m.\u001b[0m\u001b[0mclient_sizes\u001b[0m \u001b[1;33m=\u001b[0m \u001b[0mtorch\u001b[0m\u001b[1;33m.\u001b[0m\u001b[0mTensor\u001b[0m\u001b[1;33m(\u001b[0m\u001b[0mstats\u001b[0m\u001b[1;33m[\u001b[0m\u001b[1;34m\"split\"\u001b[0m\u001b[1;33m]\u001b[0m\u001b[1;33m)\u001b[0m\u001b[1;33m.\u001b[0m\u001b[0mcuda\u001b[0m\u001b[1;33m(\u001b[0m\u001b[1;33m)\u001b[0m\u001b[1;33m\u001b[0m\u001b[1;33m\u001b[0m\u001b[0m\n\u001b[0m\u001b[0;32m    198\u001b[0m \u001b[1;33m\u001b[0m\u001b[0m\n\u001b[0;32m    199\u001b[0m \u001b[1;33m\u001b[0m\u001b[0m\n",
      "\u001b[1;32mC:\\ProgramData\\Anaconda3\\lib\\site-packages\\torch\\cuda\\__init__.py\u001b[0m in \u001b[0;36m_lazy_init\u001b[1;34m()\u001b[0m\n\u001b[0;32m    206\u001b[0m                 \"multiprocessing, you must use the 'spawn' start method\")\n\u001b[0;32m    207\u001b[0m         \u001b[1;32mif\u001b[0m \u001b[1;32mnot\u001b[0m \u001b[0mhasattr\u001b[0m\u001b[1;33m(\u001b[0m\u001b[0mtorch\u001b[0m\u001b[1;33m.\u001b[0m\u001b[0m_C\u001b[0m\u001b[1;33m,\u001b[0m \u001b[1;34m'_cuda_getDeviceCount'\u001b[0m\u001b[1;33m)\u001b[0m\u001b[1;33m:\u001b[0m\u001b[1;33m\u001b[0m\u001b[1;33m\u001b[0m\u001b[0m\n\u001b[1;32m--> 208\u001b[1;33m             \u001b[1;32mraise\u001b[0m \u001b[0mAssertionError\u001b[0m\u001b[1;33m(\u001b[0m\u001b[1;34m\"Torch not compiled with CUDA enabled\"\u001b[0m\u001b[1;33m)\u001b[0m\u001b[1;33m\u001b[0m\u001b[1;33m\u001b[0m\u001b[0m\n\u001b[0m\u001b[0;32m    209\u001b[0m         \u001b[1;32mif\u001b[0m \u001b[0m_cudart\u001b[0m \u001b[1;32mis\u001b[0m \u001b[1;32mNone\u001b[0m\u001b[1;33m:\u001b[0m\u001b[1;33m\u001b[0m\u001b[1;33m\u001b[0m\u001b[0m\n\u001b[0;32m    210\u001b[0m             raise AssertionError(\n",
      "\u001b[1;31mAssertionError\u001b[0m: Torch not compiled with CUDA enabled"
     ]
    }
   ],
   "source": [
    "import json\n",
    "import time\n",
    "import os\n",
    "import argparse\n",
    "import gc\n",
    "import random\n",
    "\n",
    "from tensorflow.keras import losses, metrics, optimizers\n",
    "\n",
    "import numpy as np\n",
    "import torch, torchvision\n",
    "import torch.optim as optim\n",
    "\n",
    "import data_utils\n",
    "import neural_nets\n",
    "import distributed_training_utils as dst\n",
    "from distributed_training_utils import Client, Server\n",
    "import experiment_manager as xpm\n",
    "import default_hyperparameters as dhp\n",
    "\n",
    "import copy\n",
    "import easydict\n",
    "import warnings\n",
    "warnings.filterwarnings('ignore')\n",
    "#parser = argparse.ArgumentParser()\n",
    "#parser.add_argument(\"--schedule\", default=\"main\", type=str)\n",
    "#parser.add_argument(\"--start\", default=0, type=int)\n",
    "#parser.add_argument(\"--end\", default=None, type=int)\n",
    "#parser.add_argument(\"--reverse_order\", default=False, type=bool)\n",
    "args = easydict.EasyDict({\n",
    "    \"schedule\": 'main',\n",
    "    \"start\": 0,\n",
    "    \"end\": None,\n",
    "    'reverse_order': False,\n",
    "})\n",
    "print(\"Torch Version: \", torch.__version__)\n",
    "device = 'cpu' if torch.cuda.is_available() else 'cpu'\n",
    "\n",
    "#args = parser.parse_args()\n",
    "\n",
    "# Load the Hyperparameters of all Experiments to be performed and set up the Experiments\n",
    "with open('federated_learning.json') as data_file:    \n",
    "  experiments_raw = json.load(data_file)[args.schedule]\n",
    "\n",
    "hp_dicts = [hp for x in experiments_raw for hp in xpm.get_all_hp_combinations(x)][args.start:args.end]\n",
    "if args.reverse_order:\n",
    "  hp_dicts = hp_dicts[::-1]\n",
    "experiments = [xpm.Experiment(hyperparameters=hp) for hp in hp_dicts]\n",
    "\n",
    "\n",
    "\n",
    "def weight(experiments, client, hp,f,tempo):\n",
    "  start_time = time.time()\n",
    "  client.compress_weight_update_up(compression=hp['compression_up'], accumulate=hp['accumulation_up'], count_bits=hp[\"count_bits\"])\n",
    "  \n",
    "  end_time = time.time()\n",
    "  #print(\"--- %s seconds ---\" % (end_time - start_time))\n",
    "  f.write(str(tempo)+\" --- %s seconds ---\\n\" % (end_time - start_time))    \n",
    "\n",
    "def run_experiments(experiments):\n",
    "  print(\"Running {} Experiments..\\n\".format(len(experiments)))\n",
    "  for xp_count, xp in enumerate(experiments):\n",
    "    f= open(\"compress.txt\",\"w+\")\n",
    "    tempo = 0\n",
    "    torch.cuda.empty_cache()\n",
    "    import gc\n",
    "    gc.collect()\n",
    "    hp = dhp.get_hp(xp.hyperparameters)\n",
    "    hp['count_bits'] = True\n",
    "    xp.prepare(hp)\n",
    "    #print(xp)\n",
    "\n",
    "    # Load the Data and split it among the Clients\n",
    "    #print(hp)\n",
    "    client_loaders, train_loader, test_loader, stats = data_utils.get_data_loaders(hp)\n",
    "    # Instantiate Clients and Server with Neural Net\n",
    "    net = getattr(neural_nets, hp['net'])\n",
    "    clients = [Client(loader, net().to(device), hp, xp, id_num=i) for i, loader in enumerate(client_loaders)]\n",
    "    server = Server(test_loader, net().to(device), hp, xp, stats)\n",
    "\n",
    "    # Print optimizer specs\n",
    "    print_model(device=clients[0])\n",
    "    print_optimizer(device=clients[0])\n",
    "\n",
    "    # Start Distributed Training Process\n",
    "    print(\"Start Distributed Training..\\n\")\n",
    "    t1 = time.time()\n",
    "\n",
    "    for c_round in range(1, hp['communication_rounds']+1):\n",
    "      tempo += 1\n",
    "\n",
    "      participating_clients = random.sample(clients, int(len(clients)*hp['participation_rate'])) \n",
    "\n",
    "      # Clients do\n",
    "      for client in participating_clients:\n",
    "        client.synchronize_with_server(server)\n",
    "        client.compute_weight_update(hp['local_iterations'])\n",
    "        print('yo')\n",
    "        print(hp['net'])\n",
    "        #print abaixo\n",
    "        z = 1\n",
    "        weight(experiments, client, hp,f,tempo)\n",
    "\n",
    "      # Server does  \n",
    "      server.aggregate_weight_updates(participating_clients, aggregation=hp['aggregation']) \n",
    "      server.compress_weight_update_down(compression=hp['compression_down'], accumulate=hp['accumulation_down'], count_bits=hp[\"count_bits\"])\n",
    "\n",
    "      # Evaluate  \n",
    "      if xp.is_log_round(c_round):\n",
    "        print(\"Experiment: {} ({}/{})\".format(args.schedule, xp_count+1, len(experiments)))\n",
    "        print(\"Evaluate...\")\n",
    "        results_train = server.evaluate(max_samples=5000, loader=train_loader)\n",
    "        results_test = server.evaluate(max_samples=10000)\n",
    "        \n",
    "        # Logging\n",
    "        xp.log({'communication_round' : c_round, 'lr' : clients[0].optimizer.__dict__['param_groups'][0]['lr'],\n",
    "          'epoch' : clients[0].epoch, 'iteration' : c_round*hp['local_iterations'], 'net' : hp['net'], 'compression' : hp['compression_up'][0]})\n",
    "        xp.log({'client{}_loss'.format(client.id) : client.train_loss for client in clients}, printout=False)\n",
    "        \n",
    "        xp.log({key+'_train' : value for key, value in results_train.items()})\n",
    "        xp.log({key+'_test' : value for key, value in results_test.items()})\n",
    "        if hp[\"count_bits\"]:\n",
    "            xp.log({'bits_sent_up' : sum(participating_clients[0].bits_sent), 'bits_sent_down' : sum(server.bits_sent)})\n",
    "        \n",
    "        xp.log({'time' : time.time()-t1})\n",
    "\n",
    "        # Save results to Disk\n",
    "        if 'log_path' in hp and hp['log_path']:\n",
    "          xp.save_to_disc(path=hp['log_path'])\n",
    "\n",
    "        # Timing\n",
    "        total_time = time.time()-t1\n",
    "        avrg_time_per_c_round = (total_time)/c_round \n",
    "        e = int(avrg_time_per_c_round*(hp['communication_rounds']-c_round))\n",
    "        print(\"Remaining Time (approx.):\", '{:02d}:{:02d}:{:02d}'.format(e // 3600, (e % 3600 // 60), e % 60), \n",
    "                  \"[{:.2f}%]\\n\".format(c_round/hp['communication_rounds']*100))\n",
    "\n",
    "    # Delete objects to free up GPU memory\n",
    "    del server; clients.clear()\n",
    "    torch.cuda.empty_cache()\n",
    "    f.close()\n",
    "\n",
    "def print_optimizer(device):\n",
    "  try:\n",
    "    print(\"Optimizer:\", device.hp['optimizer'])\n",
    "    for key, value in device.optimizer.__dict__['defaults'].items():\n",
    "      print(\" -\", key,\":\", value)\n",
    "\n",
    "    hp = device.hp\n",
    "    print(hp)\n",
    "    base_batchsize = hp['batch_size']\n",
    "    if hp['fix_batchsize']:\n",
    "      client_batchsize = base_batchsize//hp['n_clients']\n",
    "    else:\n",
    "      client_batchsize = base_batchsize\n",
    "    print('hi')\n",
    "    total_batchsize = client_batchsize*hp['n_clients']\n",
    "    print(\" - batchsize (/ total): {} (/ {})\".format(client_batchsize, total_batchsize))\n",
    "    print()\n",
    "  except:\n",
    "    pass\n",
    "\n",
    "\n",
    "def print_model(device):\n",
    "  print(\"Model {}:\".format(device.hp['net']))\n",
    "  n = 0\n",
    "  for key, value in device.model.named_parameters():\n",
    "    print(' -', '{:30}'.format(key), list(value.shape))\n",
    "    n += value.numel()\n",
    "  print(\"Total number of Parameters: \", n) \n",
    "  print()\n",
    "\n",
    "\n",
    "if __name__ == \"__main__\":\n",
    "  run_experiments(experiments)\n"
   ]
  },
  {
   "cell_type": "code",
   "execution_count": 1,
   "metadata": {},
   "outputs": [],
   "source": [
    "import numpy as np\n",
    "\n",
    "vgg11=np.load(r'D:\\Mestrado\\HIAAC Results\\vgg_none.npz')\n",
    "vgg_none_bits = vgg11['bits_sent_up']\n",
    "vgg_none_acc = vgg11['accuracy_train']\n",
    "vgg_none_time = vgg11['time']\n",
    "\n",
    "vgg11=np.load(r'D:\\Mestrado\\HIAAC Results\\vgg_dgc.npz')\n",
    "vgg_dgc_bits = vgg11['bits_sent_up']\n",
    "vgg_dgc_acc = vgg11['accuracy_train']\n",
    "vgg_dgc_time = vgg11['time']\n",
    "\n",
    "vgg11=np.load(r'D:\\Mestrado\\HIAAC Results\\vgg_sgd.npz')\n",
    "vgg_sgd_bits = vgg11['bits_sent_up']\n",
    "vgg_sgd_acc = vgg11['accuracy_train']\n",
    "vgg_sgd_time = vgg11['time']\n",
    "\n",
    "vgg11=np.load(r'D:\\Mestrado\\HIAAC Results\\vgg_stc.npz')\n",
    "vgg_stc_bits = vgg11['bits_sent_up']\n",
    "vgg_stc_acc = vgg11['accuracy_train']\n",
    "vgg_stc_time = vgg11['time']"
   ]
  },
  {
   "cell_type": "code",
   "execution_count": 2,
   "metadata": {},
   "outputs": [],
   "source": [
    "cnn=np.load(r'D:\\Mestrado\\HIAAC Results\\cnn_none.npz')\n",
    "cnn_none_bits = cnn['bits_sent_up']\n",
    "cnn_none_acc = cnn['accuracy_train']\n",
    "cnn_none_time = cnn['time']\n",
    "\n",
    "cnn=np.load(r'D:\\Mestrado\\HIAAC Results\\cnn_dgc.npz')\n",
    "cnn_dgc_bits = cnn['bits_sent_up']\n",
    "cnn_dgc_acc = cnn['accuracy_train']\n",
    "cnn_dgc_time = cnn['time']\n",
    "\n",
    "cnn=np.load(r'D:\\Mestrado\\HIAAC Results\\cnn_sgd.npz')\n",
    "cnn_sgd_bits = cnn['bits_sent_up']\n",
    "cnn_sgd_acc = cnn['accuracy_train']\n",
    "cnn_sgd_time = cnn['time']\n",
    "\n",
    "cnn=np.load(r'D:\\Mestrado\\HIAAC Results\\cnn_stc.npz')\n",
    "cnn_stc_bits = cnn['bits_sent_up']\n",
    "cnn_stc_acc = cnn['accuracy_train']\n",
    "cnn_stc_time = cnn['time']"
   ]
  },
  {
   "cell_type": "code",
   "execution_count": 3,
   "metadata": {},
   "outputs": [],
   "source": [
    "logistic=np.load(r'D:\\Mestrado\\HIAAC Results\\logistic_none.npz')\n",
    "logistic_none_bits = logistic['bits_sent_up']\n",
    "logistic_none_acc = logistic['accuracy_train']\n",
    "logistic_none_time = logistic['time']\n",
    "\n",
    "logistic=np.load(r'D:\\Mestrado\\HIAAC Results\\logistic_dgc.npz')\n",
    "logistic_dgc_bits = logistic['bits_sent_up']\n",
    "logistic_dgc_acc = logistic['accuracy_train']\n",
    "logistic_dgc_time = logistic['time']\n",
    "\n",
    "logistic=np.load(r'D:\\Mestrado\\HIAAC Results\\logistic_sgd.npz')\n",
    "logistic_sgd_bits = logistic['bits_sent_up']\n",
    "logistic_sgd_acc = logistic['accuracy_train']\n",
    "logistic_sgd_time = logistic['time']\n",
    "\n",
    "logistic=np.load(r'D:\\Mestrado\\HIAAC Results\\logistic_stc.npz')\n",
    "logistic_stc_bits = logistic['bits_sent_up']\n",
    "logistic_stc_acc = logistic['accuracy_train']\n",
    "logistic_stc_time = logistic['time']"
   ]
  },
  {
   "cell_type": "code",
   "execution_count": 4,
   "metadata": {},
   "outputs": [],
   "source": [
    "efficience_logistic_stc = max(logistic_stc_acc)/logistic_stc_bits[-1]\n",
    "efficience_logistic_dgc = max(logistic_dgc_acc)/logistic_dgc_bits[-1]\n",
    "efficience_logistic_none = max(logistic_none_acc)/logistic_none_bits[-1]\n",
    "efficience_logistic_sgd = max(logistic_sgd_acc)/logistic_sgd_bits[-1]\n",
    "\n",
    "efficience_cnn_stc = max(cnn_stc_acc)/cnn_stc_bits[-1]\n",
    "efficience_cnn_dgc = max(cnn_dgc_acc)/cnn_dgc_bits[-1]\n",
    "efficience_cnn_none = max(cnn_none_acc)/cnn_none_bits[-1]\n",
    "efficience_cnn_sgd = max(cnn_sgd_acc)/cnn_sgd_bits[-1]\n",
    "\n",
    "efficience_vgg_stc = max(vgg_stc_acc)/vgg_stc_bits[-1]\n",
    "efficience_vgg_dgc = max(vgg_dgc_acc)/vgg_dgc_bits[-1]\n",
    "efficience_vgg_none = max(vgg_none_acc)/vgg_none_bits[-1]\n",
    "efficience_vgg_sgd = max(vgg_sgd_acc)/vgg_sgd_bits[-1]"
   ]
  },
  {
   "cell_type": "code",
   "execution_count": 45,
   "metadata": {},
   "outputs": [
    {
     "data": {
      "image/png": "[encoded data removed]",
      "text/plain": [
       "<Figure size 432x288 with 1 Axes>"
      ]
     },
     "metadata": {
      "needs_background": "light"
     },
     "output_type": "display_data"
    }
   ],
   "source": [
    "import numpy as np \n",
    "import matplotlib.pyplot as plt \n",
    "  \n",
    "X = ['STC','DGC','None','SGD']\n",
    "  \n",
    "X_axis = np.arange(len(X))\n",
    "logistic = [efficience_logistic_stc,efficience_logistic_dgc,efficience_logistic_none,efficience_logistic_sgd]\n",
    "cnn = [efficience_cnn_stc,efficience_cnn_dgc,efficience_cnn_none,efficience_cnn_sgd]\n",
    "vgg = [efficience_vgg_stc,efficience_vgg_dgc,efficience_vgg_none,efficience_vgg_sgd]\n",
    "  \n",
    "plt.bar(X_axis - 0.2, vgg, 0.2, label = 'VGG')\n",
    "plt.bar(X_axis, cnn, 0.2, label = 'CNN')\n",
    "plt.bar(X_axis + 0.2, logistic, 0.2, label = 'Logistic')\n",
    "  \n",
    "plt.xticks(X_axis, X)\n",
    "plt.xlabel(\"Compression\")\n",
    "plt.ylabel(\"Acuracy/Bits sent up\")\n",
    "plt.title(\"Efficience of models\")\n",
    "plt.legend()\n",
    "plt.show()"
   ]
  },
  {
   "cell_type": "code",
   "execution_count": 12,
   "metadata": {},
   "outputs": [
    {
     "data": {
      "image/png": "[encoded data removed]",
      "text/plain": [
       "<Figure size 432x288 with 1 Axes>"
      ]
     },
     "metadata": {
      "needs_background": "light"
     },
     "output_type": "display_data"
    }
   ],
   "source": [
    "import numpy as np \n",
    "import matplotlib.pyplot as plt \n",
    "  \n",
    "X = ['STC','DGC','None','SGD']\n",
    "  \n",
    "X_axis = np.arange(len(X))\n",
    "logistic = [max(logistic_stc_acc),max(logistic_dgc_acc),max(logistic_none_acc),max(logistic_sgd_acc)]\n",
    "cnn = [max(cnn_stc_acc),max(cnn_dgc_acc),max(cnn_none_acc),max(cnn_sgd_acc)]\n",
    "vgg = [max(vgg_stc_acc),max(vgg_dgc_acc),max(vgg_none_acc),max(vgg_sgd_acc)]\n",
    "  \n",
    "plt.bar(X_axis - 0.2, vgg, 0.2, label = 'VGG')\n",
    "plt.bar(X_axis, cnn, 0.2, label = 'CNN')\n",
    "plt.bar(X_axis + 0.2, logistic, 0.2, label = 'Logistic')\n",
    "  \n",
    "plt.xticks(X_axis, X)\n",
    "plt.xlabel(\"Compression\")\n",
    "plt.ylabel(\"Acuracy\")\n",
    "plt.title(\"Acuracy of models\")\n",
    "plt.legend(loc = 4)\n",
    "plt.show()"
   ]
  },
  {
   "cell_type": "code",
   "execution_count": 13,
   "metadata": {},
   "outputs": [
    {
     "data": {
      "image/png": "[encoded data removed]",
      "text/plain": [
       "<Figure size 432x288 with 1 Axes>"
      ]
     },
     "metadata": {
      "needs_background": "light"
     },
     "output_type": "display_data"
    }
   ],
   "source": [
    "import numpy as np \n",
    "import matplotlib.pyplot as plt \n",
    "  \n",
    "X = ['STC','DGC','None','SGD']\n",
    "  \n",
    "X_axis = np.arange(len(X))\n",
    "logistic = [logistic_stc_bits[-1],logistic_dgc_bits[-1],logistic_none_bits[-1],logistic_sgd_bits[-1]]\n",
    "cnn = [cnn_stc_bits[-1],cnn_dgc_bits[-1],cnn_none_bits[-1],cnn_sgd_bits[-1]]\n",
    "vgg = [vgg_stc_bits[-1],vgg_dgc_bits[-1],vgg_none_bits[-1],vgg_sgd_bits[-1]]\n",
    "  \n",
    "plt.bar(X_axis - 0.2, vgg, 0.2, label = 'VGG')\n",
    "plt.bar(X_axis, cnn, 0.2, label = 'CNN')\n",
    "plt.bar(X_axis + 0.2, logistic, 0.2, label = 'Logistic')\n",
    "  \n",
    "plt.xticks(X_axis, X)\n",
    "plt.xlabel(\"Compression\")\n",
    "plt.ylabel(\"Bits sent up\")\n",
    "plt.yscale(\"log\")\n",
    "plt.title(\"Bits sent up of models\")\n",
    "plt.legend()\n",
    "plt.show()"
   ]
  },
  {
   "cell_type": "code",
   "execution_count": 48,
   "metadata": {},
   "outputs": [
    {
     "data": {
      "image/png": "[encoded data removed]",
      "text/plain": [
       "<Figure size 432x288 with 1 Axes>"
      ]
     },
     "metadata": {
      "needs_background": "light"
     },
     "output_type": "display_data"
    }
   ],
   "source": [
    "import numpy as np \n",
    "import matplotlib.pyplot as plt \n",
    "  \n",
    "X = ['STC','DGC','None','SGD']\n",
    "  \n",
    "X_axis = np.arange(len(X))\n",
    "logistic = [logistic_stc_time[-1],logistic_dgc_time[-1],logistic_none_time[-1],logistic_sgd_time[-1]]\n",
    "cnn = [cnn_stc_time[-1],cnn_dgc_time[-1],cnn_none_time[-1],cnn_sgd_time[-1]]\n",
    "vgg = [vgg_stc_time[-1],vgg_dgc_time[-1],vgg_none_time[-1],vgg_sgd_time[-1]]\n",
    "  \n",
    "plt.bar(X_axis - 0.2, vgg, 0.2, label = 'VGG')\n",
    "plt.bar(X_axis, cnn, 0.2, label = 'CNN')\n",
    "plt.bar(X_axis + 0.2, logistic, 0.2, label = 'Logistic')\n",
    "  \n",
    "plt.xticks(X_axis, X)\n",
    "plt.xlabel(\"Compression\")\n",
    "plt.ylabel(\"Execution Time\")\n",
    "plt.title(\"Execution time of models\")\n",
    "plt.legend()\n",
    "plt.show()"
   ]
  },
  {
   "cell_type": "code",
   "execution_count": 14,
   "metadata": {
    "id": "tS5aJTYdcpx3",
    "outputId": "f4cbc2e8-9e77-437a-ac41-709b3090b913"
   },
   "outputs": [],
   "source": [
    "import numpy as np\n",
    "\n",
    "cnnTrue=np.load(r'C:\\Users\\Pichau\\Mestrado\\ProjetoHIIAC\\stc\\Stc_IID\\Stc\\results\\cifar\\10\\100_True_cnn.npz')\n",
    "cnnTrue_bits = cnnTrue['bits_sent_up']\n",
    "cnnTrue_acc = cnnTrue['accuracy_train']\n",
    "cnnTrue_time = cnnTrue['time']\n",
    "\n",
    "cnnFalse=np.load(r'C:\\Users\\Pichau\\Mestrado\\ProjetoHIIAC\\stc\\Stc_IID\\Stc\\results\\cifar\\10\\100_False_cnn.npz')\n",
    "cnnFalse_bits = cnnFalse['bits_sent_up']\n",
    "cnnFalse_acc = cnnFalse['accuracy_train']\n",
    "cnnFalse_time = cnnFalse['time']\n",
    "\n",
    "logTrue=np.load(r'C:\\Users\\Pichau\\Mestrado\\ProjetoHIIAC\\stc\\Stc_IID\\Stc\\results\\cifar\\10\\100_True_Logistic.npz')\n",
    "logTrue_bits = logTrue['bits_sent_up']\n",
    "logTrue_acc = logTrue['accuracy_train']\n",
    "logTrue_time = logTrue['time']\n",
    "\n",
    "logFalse=np.load(r'C:\\Users\\Pichau\\Mestrado\\ProjetoHIIAC\\stc\\Stc_IID\\Stc\\results\\cifar\\10\\100_False_Logistic.npz')\n",
    "logFalse_bits = logFalse['bits_sent_up']\n",
    "logFalse_acc = logFalse['accuracy_train']\n",
    "logFalse_time = logFalse['time']\n"
   ]
  },
  {
   "cell_type": "code",
   "execution_count": 17,
   "metadata": {},
   "outputs": [
    {
     "data": {
      "image/png": "[encoded data removed]",
      "text/plain": [
       "<Figure size 432x288 with 1 Axes>"
      ]
     },
     "metadata": {
      "needs_background": "light"
     },
     "output_type": "display_data"
    }
   ],
   "source": [
    "import numpy as np \n",
    "import matplotlib.pyplot as plt \n",
    "  \n",
    "X = ['STC','DGC','None','SGD']\n",
    "  \n",
    "X_axis = np.arange(len(X))\n",
    "cnn = [cnnTrue_acc[-1]]\n",
    "logistic = [logTrue_acc[-1]]\n",
    "#vgg = [vgg_stc_time[-1],vgg_dgc_time[-1],vgg_none_time[-1],vgg_sgd_time[-1]]\n",
    "  \n",
    "#plt.bar(X_axis - 0.2, vgg, 0.2, label = 'VGG')\n",
    "plt.bar(X_axis, cnn, 0.2, label = 'CNN')\n",
    "plt.bar(X_axis + 0.2, logistic, 0.2, label = 'Logistic')\n",
    "  \n",
    "plt.xticks(X_axis, X)\n",
    "plt.xlabel(\"Compression\")\n",
    "plt.ylabel(\"Execution Time\")\n",
    "plt.title(\"Execution time of models\")\n",
    "plt.legend()\n",
    "plt.show()"
   ]
  },
  {
   "cell_type": "code",
   "execution_count": null,
   "metadata": {
    "id": "GGSeMbsucpx5",
    "outputId": "db61d3ee-c229-4f7d-a27f-02acf85b282b"
   },
   "outputs": [
    {
     "data": {
      "image/png": "[encoded data removed]",
      "text/plain": [
       "<Figure size 504x504 with 1 Axes>"
      ]
     },
     "metadata": {
      "needs_background": "light"
     },
     "output_type": "display_data"
    }
   ],
   "source": [
    "import pandas as pd\n",
    "import matplotlib.pyplot as plt\n",
    "label = [0.1,0.2,0.3,0.4,0.5,0.6,0.7,0.8,0.9,1]\n",
    "#None\n",
    "none_cnn = [none_cif_acc_True]\n",
    "none_cnn = none_cnn[0]\n",
    "none_cnn = list(none_cnn)\n",
    "none_log = [none_log_acc_True]\n",
    "none_log = none_log[0]\n",
    "none_log = list(none_log)\n",
    "none_cnn_f = [none_cif_acc_False]\n",
    "none_cnn_f = none_cnn_f[0]\n",
    "none_cnn_f = list(none_cnn_f)\n",
    "none_log_f = [none_log_acc_False]\n",
    "none_log_f = none_log_f[0]\n",
    "none_log_f = list(none_log_f)\n",
    "#stc = [STC_cif_loss_True,STC_log_loss_True,STC_cif_loss_False, STC_log_loss_False]\n",
    "stc_cnn = [STC_cif_acc_True]\n",
    "stc_cnn = stc_cnn[0]\n",
    "stc_cnn = list(stc_cnn)\n",
    "stc_log = [STC_log_acc_True]\n",
    "stc_log = stc_log[0]\n",
    "stc_log = list(stc_log)\n",
    "stc_cnn_f = [STC_cif_acc_False]\n",
    "stc_cnn_f = stc_cnn_f[0]\n",
    "stc_cnn_f = list(stc_cnn_f)\n",
    "stc_log_f = [STC_log_acc_False]\n",
    "stc_log_f = stc_log_f[0]\n",
    "stc_log_f = list(stc_log_f)\n",
    "#dgc = [dgc_cif_loss_True, dgc_log_loss_True,dgc_cif_loss_False,dgc_log_loss_False]\n",
    "dgc_cnn = [dgc_cif_acc_True]\n",
    "dgc_cnn = dgc_cnn[0]\n",
    "dgc_cnn = list(dgc_cnn)\n",
    "dgc_log = [dgc_log_acc_True]\n",
    "dgc_log = dgc_log[0]\n",
    "dgc_log = list(dgc_log)\n",
    "dgc_cnn_f = [dgc_cif_acc_False]\n",
    "dgc_cnn_f = dgc_cnn_f[0]\n",
    "dgc_cnn_f = list(dgc_cnn_f)\n",
    "dgc_log_f = [dgc_log_acc_False]\n",
    "dgc_log_f = dgc_log_f[0]\n",
    "dgc_log_f = list(dgc_log_f)\n",
    "#sgd = [sgd_cif_loss_True, sgd_log_loss_True,sgd_cif_loss_False, sgd_log_loss_False]\n",
    "sgd_cnn = [sgd_cif_acc_True]\n",
    "sgd_cnn = sgd_cnn[0]\n",
    "sgd_cnn = list(sgd_cnn)\n",
    "sgd_log = [sgd_log_acc_True]\n",
    "sgd_log = sgd_log[0]\n",
    "sgd_log = list(sgd_log)\n",
    "sgd_cnn_f = [sgd_cif_acc_False]\n",
    "sgd_cnn_f = sgd_cnn_f[0]\n",
    "sgd_cnn_f = list(sgd_cnn_f)\n",
    "sgd_log_f = [sgd_log_acc_False]\n",
    "sgd_log_f = sgd_log_f[0]\n",
    "sgd_log_f = list(sgd_log_f)\n",
    "\n",
    "\n",
    "df = pd.DataFrame({'No compression CNN IID': none_cnn,\n",
    "                  'STC CNN IID': stc_cnn,\n",
    "                  'DGC CNN IID':dgc_cnn,\n",
    "                  'SGD CNN IID':sgd_cnn})\n",
    "# Shrink current axis's height by 10% on the bottom\n",
    "ax = df.plot.line(title='Acurácia Cifar-10 dados IID',rot=45,figsize = (7,7)).legend(ncol = 1,loc='center left', bbox_to_anchor=(1, 0.5),fontsize = 12)\n",
    "#plt.yscale('log')\n"
   ]
  },
  {
   "cell_type": "code",
   "execution_count": 38,
   "metadata": {
    "id": "pIX9gDY4cpx6",
    "outputId": "09970a4f-d580-4d6d-ad6a-3a7ecb8db8ed"
   },
   "outputs": [
    {
     "name": "stdout",
     "output_type": "stream",
     "text": [
      "['cnn' 'cnn' 'cnn' 'cnn' 'cnn' 'cnn' 'cnn' 'cnn' 'cnn' 'cnn' 'cnn' 'cnn'\n",
      " 'cnn' 'cnn' 'cnn' 'cnn' 'cnn' 'cnn' 'cnn' 'cnn' 'cnn' 'cnn' 'cnn' 'cnn'\n",
      " 'cnn' 'cnn' 'cnn' 'cnn' 'cnn' 'cnn' 'cnn' 'cnn' 'cnn' 'cnn' 'cnn' 'cnn'\n",
      " 'cnn' 'cnn' 'cnn' 'cnn' 'cnn' 'cnn' 'cnn' 'cnn' 'cnn' 'cnn' 'cnn' 'cnn'\n",
      " 'cnn' 'cnn' 'cnn' 'cnn' 'cnn' 'cnn' 'cnn' 'cnn' 'cnn' 'cnn' 'cnn' 'cnn'\n",
      " 'cnn' 'cnn' 'cnn' 'cnn' 'cnn' 'cnn' 'cnn' 'cnn' 'cnn' 'cnn' 'cnn' 'cnn'\n",
      " 'cnn' 'cnn' 'cnn' 'cnn' 'cnn' 'cnn' 'cnn' 'cnn' 'cnn' 'cnn' 'cnn' 'cnn'\n",
      " 'cnn' 'cnn' 'cnn' 'cnn' 'cnn' 'cnn' 'cnn' 'cnn' 'cnn' 'cnn' 'cnn' 'cnn'\n",
      " 'cnn' 'cnn' 'cnn' 'cnn']\n",
      "['none' 'none' 'none' 'none' 'none' 'none' 'none' 'none' 'none' 'none'\n",
      " 'none' 'none' 'none' 'none' 'none' 'none' 'none' 'none' 'none' 'none'\n",
      " 'none' 'none' 'none' 'none' 'none' 'none' 'none' 'none' 'none' 'none'\n",
      " 'none' 'none' 'none' 'none' 'none' 'none' 'none' 'none' 'none' 'none'\n",
      " 'none' 'none' 'none' 'none' 'none' 'none' 'none' 'none' 'none' 'none'\n",
      " 'none' 'none' 'none' 'none' 'none' 'none' 'none' 'none' 'none' 'none'\n",
      " 'none' 'none' 'none' 'none' 'none' 'none' 'none' 'none' 'none' 'none'\n",
      " 'none' 'none' 'none' 'none' 'none' 'none' 'none' 'none' 'none' 'none'\n",
      " 'none' 'none' 'none' 'none' 'none' 'none' 'none' 'none' 'none' 'none'\n",
      " 'none' 'none' 'none' 'none' 'none' 'none' 'none' 'none' 'none' 'none']\n"
     ]
    }
   ],
   "source": [
    "import numpy as np\n",
    "\n",
    "cnnDGC=np.load(r'C:\\Users\\Pichau\\Mestrado\\ProjetoHIIAC\\stc\\Stc_IID\\Stc\\results\\20\\xp_39411.npz')\n",
    "cnnDGC_bits = cnnDGC['bits_sent_up']\n",
    "cnnDGC_acc = cnnDGC['accuracy_train']\n",
    "cnnDGC_time = cnnDGC['time']\n",
    "\n",
    "cnnSTC=np.load(r'C:\\Users\\Pichau\\Mestrado\\ProjetoHIIAC\\stc\\Stc_IID\\Stc\\results\\20\\xp_70892.npz')\n",
    "cnnSTC_bits = cnnSTC['bits_sent_up']\n",
    "cnnSTC_acc = cnnSTC['accuracy_train']\n",
    "cnnSTC_time = cnnSTC['time']\n",
    "\n",
    "cnnNone=np.load(r'C:\\Users\\Pichau\\Mestrado\\ProjetoHIIAC\\stc\\Stc_IID\\Stc\\results\\20\\xp_76052.npz')\n",
    "cnnNone_bits = cnnNone['bits_sent_up']\n",
    "cnnNone_acc = cnnNone['accuracy_train']\n",
    "cnnNone_time = cnnNone['time']\n",
    "\n",
    "cnnSGD=np.load(r'C:\\Users\\Pichau\\Mestrado\\ProjetoHIIAC\\stc\\Stc_IID\\Stc\\results\\20\\xp_89426.npz')\n",
    "cnnSGD_bits = cnnSGD['bits_sent_up']\n",
    "cnnSGD_acc = cnnSGD['accuracy_train']\n",
    "cnnSGD_time = cnnSGD['time']\n",
    "             "
   ]
  },
  {
   "cell_type": "code",
   "execution_count": 45,
   "metadata": {},
   "outputs": [],
   "source": [
    "import numpy as np\n",
    "\n",
    "cnnDGC40=np.load(r'C:\\Users\\Pichau\\Mestrado\\ProjetoHIIAC\\stc\\Stc_IID\\Stc\\results\\40\\xp_56710.npz')\n",
    "cnnDGC40_bits = cnnDGC40['bits_sent_up']\n",
    "cnnDGC40_acc = cnnDGC40['accuracy_train']\n",
    "cnnDGC40_time = cnnDGC40['time']\n",
    "\n",
    "cnnSTC40=np.load(r'C:\\Users\\Pichau\\Mestrado\\ProjetoHIIAC\\stc\\Stc_IID\\Stc\\results\\40\\xp_95282.npz')\n",
    "cnnSTC40_bits = cnnSTC40['bits_sent_up']\n",
    "cnnSTC40_acc = cnnSTC40['accuracy_train']\n",
    "cnnSTC40_time = cnnSTC40['time']\n",
    "\n",
    "cnnNone40=np.load(r'C:\\Users\\Pichau\\Mestrado\\ProjetoHIIAC\\stc\\Stc_IID\\Stc\\results\\40\\xp_39445.npz')\n",
    "cnnNone40_bits = cnnNone40['bits_sent_up']\n",
    "cnnNone40_acc = cnnNone40['accuracy_train']\n",
    "cnnNone40_time = cnnNone40['time']\n",
    "\n",
    "cnnSGD40=np.load(r'C:\\Users\\Pichau\\Mestrado\\ProjetoHIIAC\\stc\\Stc_IID\\Stc\\results\\40\\xp_92918.npz')\n",
    "cnnSGD40_bits = cnnSGD40['bits_sent_up']\n",
    "cnnSGD40_acc = cnnSGD40['accuracy_train']\n",
    "cnnSGD40_time = cnnSGD40['time']\n",
    "             "
   ]
  },
  {
   "cell_type": "code",
   "execution_count": 50,
   "metadata": {
    "id": "kB49hu1zcpx8"
   },
   "outputs": [
    {
     "data": {
      "image/png": "[encoded data removed]",
      "text/plain": [
       "<Figure size 432x288 with 1 Axes>"
      ]
     },
     "metadata": {
      "needs_background": "light"
     },
     "output_type": "display_data"
    }
   ],
   "source": [
    "import numpy as np \n",
    "import matplotlib.pyplot as plt \n",
    "  \n",
    "X = ['STC','DGC','None','SGD']\n",
    "  \n",
    "X_axis = np.arange(len(X))\n",
    "cnn20 = [max(cnnSTC_acc),max(cnnDGC_acc),max(cnnNone_acc),max(cnnSGD_acc)]\n",
    "cnn40 = [max(cnnSTC40_acc),max(cnnDGC40_acc),max(cnnNone40_acc),max(cnnSGD40_acc)]\n",
    "#vgg = [vgg_stc_time[-1],vgg_dgc_time[-1],vgg_none_time[-1],vgg_sgd_time[-1]]\n",
    "  \n",
    "plt.bar(X_axis - 0.2, cnn20, 0.2, label = 'CNN 20% Prune')\n",
    "plt.bar(X_axis, cnn40, 0.2, label = 'CNN 40% Prune')\n",
    "#plt.bar(X_axis + 0.2, logistic, 0.2, label = 'Logistic')\n",
    "  \n",
    "plt.xticks(X_axis, X)\n",
    "plt.xlabel(\"Compression\")\n",
    "plt.ylabel(\"Accuracy\")\n",
    "plt.title(\"Accuracy of models\")\n",
    "plt.legend()\n",
    "plt.show()"
   ]
  },
  {
   "cell_type": "code",
   "execution_count": 48,
   "metadata": {},
   "outputs": [
    {
     "data": {
      "image/png": "[encoded data removed]",
      "text/plain": [
       "<Figure size 432x288 with 1 Axes>"
      ]
     },
     "metadata": {
      "needs_background": "light"
     },
     "output_type": "display_data"
    }
   ],
   "source": [
    "import numpy as np \n",
    "import matplotlib.pyplot as plt \n",
    "  \n",
    "X = ['STC','DGC','None','SGD']\n",
    "  \n",
    "X_axis = np.arange(len(X))\n",
    "cnn20 = [cnnSTC_bits[-1],cnnDGC_bits[-1],cnnNone_bits[-1],cnnSGD_bits[-1]]\n",
    "cnn40 = [cnnSTC40_bits[-1],cnnDGC40_bits[-1],cnnNone40_bits[-1],cnnSGD40_bits[-1]]\n",
    "#vgg = [vgg_stc_time[-1],vgg_dgc_time[-1],vgg_none_time[-1],vgg_sgd_time[-1]]\n",
    "  \n",
    "plt.bar(X_axis - 0.2, cnn20, 0.2, label = 'CNN 20% Prune')\n",
    "plt.bar(X_axis, cnn40, 0.2, label = 'CNN 40% Prune')\n",
    "#plt.bar(X_axis + 0.2, logistic, 0.2, label = 'Logistic')\n",
    "  \n",
    "plt.xticks(X_axis, X)\n",
    "plt.xlabel(\"Compression\")\n",
    "plt.ylabel(\"Bits sent\")\n",
    "plt.title(\"Bits sent of each model\")\n",
    "plt.yscale('log')\n",
    "plt.legend()\n",
    "plt.show()"
   ]
  },
  {
   "cell_type": "code",
   "execution_count": 49,
   "metadata": {},
   "outputs": [
    {
     "data": {
      "image/png": "[encoded data removed]",
      "text/plain": [
       "<Figure size 432x288 with 1 Axes>"
      ]
     },
     "metadata": {
      "needs_background": "light"
     },
     "output_type": "display_data"
    }
   ],
   "source": [
    "import numpy as np \n",
    "import matplotlib.pyplot as plt \n",
    "  \n",
    "X = ['STC','DGC','None','SGD']\n",
    "  \n",
    "X_axis = np.arange(len(X))\n",
    "cnn20 = [cnnSTC_time[-1],cnnDGC_time[-1],cnnNone_time[-1],cnnSGD_time[-1]]\n",
    "cnn40 = [cnnSTC40_time[-1],cnnDGC40_time[-1],cnnNone40_time[-1],cnnSGD40_time[-1]]\n",
    "#vgg = [vgg_stc_time[-1],vgg_dgc_time[-1],vgg_none_time[-1],vgg_sgd_time[-1]]\n",
    "  \n",
    "plt.bar(X_axis - 0.2, cnn20, 0.2, label = 'CNN 20% Prune')\n",
    "plt.bar(X_axis, cnn40, 0.2, label = 'CNN 40% Prune')\n",
    "#plt.bar(X_axis + 0.2, logistic, 0.2, label = 'Logistic')\n",
    "  \n",
    "plt.xticks(X_axis, X)\n",
    "plt.xlabel(\"Compression\")\n",
    "plt.ylabel(\"Execution time\")\n",
    "plt.title(\"Execution time of each model\")\n",
    "plt.legend()\n",
    "plt.show()"
   ]
  },
  {
   "cell_type": "code",
   "execution_count": null,
   "metadata": {},
   "outputs": [],
   "source": []
  }
 ],
 "metadata": {
  "accelerator": "GPU",
  "colab": {
   "collapsed_sections": [],
   "name": "Stc-Copy1.ipynb",
   "provenance": []
  },
  "kernelspec": {
   "display_name": "Python 3 (ipykernel)",
   "language": "python",
   "name": "python3"
  },
  "language_info": {
   "codemirror_mode": {
    "name": "ipython",
    "version": 3
   },
   "file_extension": ".py",
   "mimetype": "text/x-python",
   "name": "python",
   "nbconvert_exporter": "python",
   "pygments_lexer": "ipython3",
   "version": "3.9.7"
  },
  "widgets": {
   "application/vnd.jupyter.widget-state+json": {
    "004cc7ee0a3b48899ccb665829e97610": {
     "model_module": "@jupyter-widgets/base",
     "model_module_version": "1.2.0",
     "model_name": "LayoutModel",
     "state": {
      "_model_module": "@jupyter-widgets/base",
      "_model_module_version": "1.2.0",
      "_model_name": "LayoutModel",
      "_view_count": null,
      "_view_module": "@jupyter-widgets/base",
      "_view_module_version": "1.2.0",
      "_view_name": "LayoutView",
      "align_content": null,
      "align_items": null,
      "align_self": null,
      "border": null,
      "bottom": null,
      "display": null,
      "flex": null,
      "flex_flow": null,
      "grid_area": null,
      "grid_auto_columns": null,
      "grid_auto_flow": null,
      "grid_auto_rows": null,
      "grid_column": null,
      "grid_gap": null,
      "grid_row": null,
      "grid_template_areas": null,
      "grid_template_columns": null,
      "grid_template_rows": null,
      "height": null,
      "justify_content": null,
      "justify_items": null,
      "left": null,
      "margin": null,
      "max_height": null,
      "max_width": null,
      "min_height": null,
      "min_width": null,
      "object_fit": null,
      "object_position": null,
      "order": null,
      "overflow": null,
      "overflow_x": null,
      "overflow_y": null,
      "padding": null,
      "right": null,
      "top": null,
      "visibility": null,
      "width": null
     }
    },
    "02fa296411ac4a20b1c15131ed0db5b0": {
     "model_module": "@jupyter-widgets/controls",
     "model_module_version": "1.5.0",
     "model_name": "DescriptionStyleModel",
     "state": {
      "_model_module": "@jupyter-widgets/controls",
      "_model_module_version": "1.5.0",
      "_model_name": "DescriptionStyleModel",
      "_view_count": null,
      "_view_module": "@jupyter-widgets/base",
      "_view_module_version": "1.2.0",
      "_view_name": "StyleView",
      "description_width": ""
     }
    },
    "201120a1037c495e82b163c669a0cb16": {
     "model_module": "@jupyter-widgets/controls",
     "model_module_version": "1.5.0",
     "model_name": "HTMLModel",
     "state": {
      "_dom_classes": [],
      "_model_module": "@jupyter-widgets/controls",
      "_model_module_version": "1.5.0",
      "_model_name": "HTMLModel",
      "_view_count": null,
      "_view_module": "@jupyter-widgets/controls",
      "_view_module_version": "1.5.0",
      "_view_name": "HTMLView",
      "description": "",
      "description_tooltip": null,
      "layout": "IPY_MODEL_c2c7e69c444043acb61ce78b2f93c468",
      "placeholder": "​",
      "style": "IPY_MODEL_02fa296411ac4a20b1c15131ed0db5b0",
      "value": ""
     }
    },
    "2bb28f00859240a5a37a9a51f82b728e": {
     "model_module": "@jupyter-widgets/controls",
     "model_module_version": "1.5.0",
     "model_name": "ProgressStyleModel",
     "state": {
      "_model_module": "@jupyter-widgets/controls",
      "_model_module_version": "1.5.0",
      "_model_name": "ProgressStyleModel",
      "_view_count": null,
      "_view_module": "@jupyter-widgets/base",
      "_view_module_version": "1.2.0",
      "_view_name": "StyleView",
      "bar_color": null,
      "description_width": ""
     }
    },
    "8474422e0a7a45c981e10d8dbbb93934": {
     "model_module": "@jupyter-widgets/controls",
     "model_module_version": "1.5.0",
     "model_name": "DescriptionStyleModel",
     "state": {
      "_model_module": "@jupyter-widgets/controls",
      "_model_module_version": "1.5.0",
      "_model_name": "DescriptionStyleModel",
      "_view_count": null,
      "_view_module": "@jupyter-widgets/base",
      "_view_module_version": "1.2.0",
      "_view_name": "StyleView",
      "description_width": ""
     }
    },
    "85d2bb59b1714975ba7f3a8171e42684": {
     "model_module": "@jupyter-widgets/controls",
     "model_module_version": "1.5.0",
     "model_name": "HBoxModel",
     "state": {
      "_dom_classes": [],
      "_model_module": "@jupyter-widgets/controls",
      "_model_module_version": "1.5.0",
      "_model_name": "HBoxModel",
      "_view_count": null,
      "_view_module": "@jupyter-widgets/controls",
      "_view_module_version": "1.5.0",
      "_view_name": "HBoxView",
      "box_style": "",
      "children": [
       "IPY_MODEL_201120a1037c495e82b163c669a0cb16",
       "IPY_MODEL_e6b0ab37405b4e0588f59cf3da5d11cb",
       "IPY_MODEL_fedbcd98ee7a4277bf0153a958172461"
      ],
      "layout": "IPY_MODEL_004cc7ee0a3b48899ccb665829e97610"
     }
    },
    "99695c39fe3247b99fac5e327997a16e": {
     "model_module": "@jupyter-widgets/base",
     "model_module_version": "1.2.0",
     "model_name": "LayoutModel",
     "state": {
      "_model_module": "@jupyter-widgets/base",
      "_model_module_version": "1.2.0",
      "_model_name": "LayoutModel",
      "_view_count": null,
      "_view_module": "@jupyter-widgets/base",
      "_view_module_version": "1.2.0",
      "_view_name": "LayoutView",
      "align_content": null,
      "align_items": null,
      "align_self": null,
      "border": null,
      "bottom": null,
      "display": null,
      "flex": null,
      "flex_flow": null,
      "grid_area": null,
      "grid_auto_columns": null,
      "grid_auto_flow": null,
      "grid_auto_rows": null,
      "grid_column": null,
      "grid_gap": null,
      "grid_row": null,
      "grid_template_areas": null,
      "grid_template_columns": null,
      "grid_template_rows": null,
      "height": null,
      "justify_content": null,
      "justify_items": null,
      "left": null,
      "margin": null,
      "max_height": null,
      "max_width": null,
      "min_height": null,
      "min_width": null,
      "object_fit": null,
      "object_position": null,
      "order": null,
      "overflow": null,
      "overflow_x": null,
      "overflow_y": null,
      "padding": null,
      "right": null,
      "top": null,
      "visibility": null,
      "width": null
     }
    },
    "c1b81a2f591d47a4b5abe405ef51932c": {
     "model_module": "@jupyter-widgets/base",
     "model_module_version": "1.2.0",
     "model_name": "LayoutModel",
     "state": {
      "_model_module": "@jupyter-widgets/base",
      "_model_module_version": "1.2.0",
      "_model_name": "LayoutModel",
      "_view_count": null,
      "_view_module": "@jupyter-widgets/base",
      "_view_module_version": "1.2.0",
      "_view_name": "LayoutView",
      "align_content": null,
      "align_items": null,
      "align_self": null,
      "border": null,
      "bottom": null,
      "display": null,
      "flex": null,
      "flex_flow": null,
      "grid_area": null,
      "grid_auto_columns": null,
      "grid_auto_flow": null,
      "grid_auto_rows": null,
      "grid_column": null,
      "grid_gap": null,
      "grid_row": null,
      "grid_template_areas": null,
      "grid_template_columns": null,
      "grid_template_rows": null,
      "height": null,
      "justify_content": null,
      "justify_items": null,
      "left": null,
      "margin": null,
      "max_height": null,
      "max_width": null,
      "min_height": null,
      "min_width": null,
      "object_fit": null,
      "object_position": null,
      "order": null,
      "overflow": null,
      "overflow_x": null,
      "overflow_y": null,
      "padding": null,
      "right": null,
      "top": null,
      "visibility": null,
      "width": null
     }
    },
    "c2c7e69c444043acb61ce78b2f93c468": {
     "model_module": "@jupyter-widgets/base",
     "model_module_version": "1.2.0",
     "model_name": "LayoutModel",
     "state": {
      "_model_module": "@jupyter-widgets/base",
      "_model_module_version": "1.2.0",
      "_model_name": "LayoutModel",
      "_view_count": null,
      "_view_module": "@jupyter-widgets/base",
      "_view_module_version": "1.2.0",
      "_view_name": "LayoutView",
      "align_content": null,
      "align_items": null,
      "align_self": null,
      "border": null,
      "bottom": null,
      "display": null,
      "flex": null,
      "flex_flow": null,
      "grid_area": null,
      "grid_auto_columns": null,
      "grid_auto_flow": null,
      "grid_auto_rows": null,
      "grid_column": null,
      "grid_gap": null,
      "grid_row": null,
      "grid_template_areas": null,
      "grid_template_columns": null,
      "grid_template_rows": null,
      "height": null,
      "justify_content": null,
      "justify_items": null,
      "left": null,
      "margin": null,
      "max_height": null,
      "max_width": null,
      "min_height": null,
      "min_width": null,
      "object_fit": null,
      "object_position": null,
      "order": null,
      "overflow": null,
      "overflow_x": null,
      "overflow_y": null,
      "padding": null,
      "right": null,
      "top": null,
      "visibility": null,
      "width": null
     }
    },
    "e6b0ab37405b4e0588f59cf3da5d11cb": {
     "model_module": "@jupyter-widgets/controls",
     "model_module_version": "1.5.0",
     "model_name": "FloatProgressModel",
     "state": {
      "_dom_classes": [],
      "_model_module": "@jupyter-widgets/controls",
      "_model_module_version": "1.5.0",
      "_model_name": "FloatProgressModel",
      "_view_count": null,
      "_view_module": "@jupyter-widgets/controls",
      "_view_module_version": "1.5.0",
      "_view_name": "ProgressView",
      "bar_style": "success",
      "description": "",
      "description_tooltip": null,
      "layout": "IPY_MODEL_99695c39fe3247b99fac5e327997a16e",
      "max": 170498071,
      "min": 0,
      "orientation": "horizontal",
      "style": "IPY_MODEL_2bb28f00859240a5a37a9a51f82b728e",
      "value": 170498071
     }
    },
    "fedbcd98ee7a4277bf0153a958172461": {
     "model_module": "@jupyter-widgets/controls",
     "model_module_version": "1.5.0",
     "model_name": "HTMLModel",
     "state": {
      "_dom_classes": [],
      "_model_module": "@jupyter-widgets/controls",
      "_model_module_version": "1.5.0",
      "_model_name": "HTMLModel",
      "_view_count": null,
      "_view_module": "@jupyter-widgets/controls",
      "_view_module_version": "1.5.0",
      "_view_name": "HTMLView",
      "description": "",
      "description_tooltip": null,
      "layout": "IPY_MODEL_c1b81a2f591d47a4b5abe405ef51932c",
      "placeholder": "​",
      "style": "IPY_MODEL_8474422e0a7a45c981e10d8dbbb93934",
      "value": " 170499072/? [00:03&lt;00:00, 59491328.23it/s]"
     }
    }
   }
  }
 },
 "nbformat": 4,
 "nbformat_minor": 1
}
