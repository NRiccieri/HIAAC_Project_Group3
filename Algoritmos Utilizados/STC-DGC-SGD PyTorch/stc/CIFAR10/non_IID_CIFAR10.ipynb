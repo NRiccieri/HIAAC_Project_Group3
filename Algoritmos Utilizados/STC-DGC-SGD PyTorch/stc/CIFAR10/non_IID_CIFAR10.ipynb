{
 "cells": [
  {
   "cell_type": "markdown",
   "metadata": {
    "id": "ue-o6jO70dGm"
   },
   "source": [
    "Código retirado de: https://towardsdatascience.com/preserving-data-privacy-in-deep-learning-part-2-6c2e9494398b"
   ]
  },
  {
   "cell_type": "code",
   "execution_count": 43,
   "metadata": {
    "executionInfo": {
     "elapsed": 5967,
     "status": "ok",
     "timestamp": 1638442928670,
     "user": {
      "displayName": "Gabriel Ukstin Talasso",
      "photoUrl": "https://lh3.googleusercontent.com/a/default-user=s64",
      "userId": "10941613291697764218"
     },
     "user_tz": 180
    },
    "id": "Q0Iii6JszrHC"
   },
   "outputs": [],
   "source": [
    "import os\n",
    "import random\n",
    "from tqdm import tqdm\n",
    "import numpy as np\n",
    "import torch, torchvision\n",
    "from torchvision import datasets, transforms\n",
    "from torch.utils.data.dataset import Dataset\n",
    "from torchvision import transforms \n",
    "from torchvision.transforms import Compose \n",
    "torch.backends.cudnn.benchmark=True"
   ]
  },
  {
   "cell_type": "code",
   "execution_count": 44,
   "metadata": {
    "executionInfo": {
     "elapsed": 7,
     "status": "ok",
     "timestamp": 1638442928672,
     "user": {
      "displayName": "Gabriel Ukstin Talasso",
      "photoUrl": "https://lh3.googleusercontent.com/a/default-user=s64",
      "userId": "10941613291697764218"
     },
     "user_tz": 180
    },
    "id": "geKFcyOtzsYk"
   },
   "outputs": [],
   "source": [
    "classes_pc = 2\n",
    "num_clients = 20\n",
    "batch_size = 32\n",
    "real_wd = False #False: non_iid dataset, True: Real-world dataset"
   ]
  },
  {
   "cell_type": "code",
   "execution_count": 45,
   "metadata": {
    "executionInfo": {
     "elapsed": 239,
     "status": "ok",
     "timestamp": 1638442951085,
     "user": {
      "displayName": "Gabriel Ukstin Talasso",
      "photoUrl": "https://lh3.googleusercontent.com/a/default-user=s64",
      "userId": "10941613291697764218"
     },
     "user_tz": 180
    },
    "id": "hcvGeNP8zutk"
   },
   "outputs": [],
   "source": [
    "#### get cifar dataset in x and y form\n",
    "\n",
    "def get_cifar10():\n",
    "  '''Return CIFAR10 train/test data and labels as numpy arrays'''\n",
    "  data_train = torchvision.datasets.CIFAR10('./data', train=True, download=True)\n",
    "  data_test = torchvision.datasets.CIFAR10('./data', train=False, download=True) \n",
    "  \n",
    "  x_train, y_train = data_train.data.transpose((0,3,1,2)), np.array(data_train.targets)\n",
    "  x_test, y_test = data_test.data.transpose((0,3,1,2)), np.array(data_test.targets)\n",
    "  \n",
    "  return x_train, y_train, x_test, y_test\n",
    "\n",
    "def print_image_data_stats(data_train, labels_train, data_test, labels_test):\n",
    "  print(\"\\nData: \")\n",
    "  print(\" - Train Set: ({},{}), Range: [{:.3f}, {:.3f}], Labels: {},..,{}\".format(\n",
    "    data_train.shape, labels_train.shape, np.min(data_train), np.max(data_train),\n",
    "      np.min(labels_train), np.max(labels_train)))\n",
    "  print(\" - Test Set: ({},{}), Range: [{:.3f}, {:.3f}], Labels: {},..,{}\".format(\n",
    "    data_test.shape, labels_test.shape, np.min(data_train), np.max(data_train),\n",
    "      np.min(labels_test), np.max(labels_test)))"
   ]
  },
  {
   "cell_type": "code",
   "execution_count": 46,
   "metadata": {
    "executionInfo": {
     "elapsed": 241,
     "status": "ok",
     "timestamp": 1638442970753,
     "user": {
      "displayName": "Gabriel Ukstin Talasso",
      "photoUrl": "https://lh3.googleusercontent.com/a/default-user=s64",
      "userId": "10941613291697764218"
     },
     "user_tz": 180
    },
    "id": "p-aKx6U_z19I"
   },
   "outputs": [],
   "source": [
    "def clients_rand(train_len, nclients):\n",
    "  '''\n",
    "  train_len: size of the train data\n",
    "  nclients: number of clients\n",
    "  \n",
    "  Returns: to_ret\n",
    "  \n",
    "  This function creates a random distribution \n",
    "  for the clients, i.e. number of images each client \n",
    "  possess.\n",
    "  '''\n",
    "  client_tmp=[]\n",
    "  sum_=0\n",
    "  #### creating random values for each client ####\n",
    "  for i in range(nclients-1):\n",
    "    tmp=random.randint(10,100)\n",
    "    sum_+=tmp\n",
    "    client_tmp.append(tmp)\n",
    "\n",
    "  client_tmp= np.array(client_tmp)\n",
    "  #### using those random values as weights ####\n",
    "  clients_dist= ((client_tmp/sum_)*train_len).astype(int)\n",
    "  num  = train_len - clients_dist.sum()\n",
    "  to_ret = list(clients_dist)\n",
    "  to_ret.append(num)\n",
    "  return to_ret"
   ]
  },
  {
   "cell_type": "code",
   "execution_count": 47,
   "metadata": {
    "executionInfo": {
     "elapsed": 241,
     "status": "ok",
     "timestamp": 1638443015141,
     "user": {
      "displayName": "Gabriel Ukstin Talasso",
      "photoUrl": "https://lh3.googleusercontent.com/a/default-user=s64",
      "userId": "10941613291697764218"
     },
     "user_tz": 180
    },
    "id": "S8qiRL46z6wF"
   },
   "outputs": [],
   "source": [
    "\n",
    "def split_image_data_realwd(data, labels, n_clients=100, verbose=True):\n",
    "  '''\n",
    "  Splits (data, labels) among 'n_clients s.t. every client can holds any number of classes which is trying to simulate real world dataset\n",
    "  Input:\n",
    "    data : [n_data x shape]\n",
    "    labels : [n_data (x 1)] from 0 to n_labels(10)\n",
    "    n_clients : number of clients\n",
    "    verbose : True/False => True for printing some info, False otherwise\n",
    "  Output:\n",
    "    clients_split : splitted client data into desired format\n",
    "  '''\n",
    "  def break_into(n,m):\n",
    "    ''' \n",
    "    return m random integers with sum equal to n \n",
    "    '''\n",
    "    to_ret = [1 for i in range(m)]\n",
    "    for i in range(n-m):\n",
    "        ind = random.randint(0,m-1)\n",
    "        to_ret[ind] += 1\n",
    "    return to_ret\n",
    "\n",
    "  #### constants ####\n",
    "  n_classes = len(set(labels))\n",
    "  classes = list(range(n_classes))\n",
    "  np.random.shuffle(classes)\n",
    "  label_indcs  = [list(np.where(labels==class_)[0]) for class_ in classes]\n",
    "  \n",
    "  #### classes for each client ####\n",
    "  tmp = [np.random.randint(1,10) for i in range(n_clients)]\n",
    "  total_partition = sum(tmp)\n",
    "\n",
    "  #### create partition among classes to fulfill criteria for clients ####\n",
    "  class_partition = break_into(total_partition, len(classes))\n",
    "\n",
    "  #### applying greedy approach first come and first serve ####\n",
    "  class_partition = sorted(class_partition,reverse=True)\n",
    "  class_partition_split = {}\n",
    "\n",
    "  #### based on class partition, partitioning the label indexes ###\n",
    "  for ind, class_ in enumerate(classes):\n",
    "      class_partition_split[class_] = [list(i) for i in np.array_split(label_indcs[ind],class_partition[ind])]\n",
    "      \n",
    "#   print([len(class_partition_split[key]) for key in  class_partition_split.keys()])\n",
    "\n",
    "  clients_split = []\n",
    "  count = 0\n",
    "  for i in range(n_clients):\n",
    "    n = tmp[i]\n",
    "    j = 0\n",
    "    indcs = []\n",
    "\n",
    "    while n>0:\n",
    "        class_ = classes[j]\n",
    "        if len(class_partition_split[class_])>0:\n",
    "            indcs.extend(class_partition_split[class_][-1])\n",
    "            count+=len(class_partition_split[class_][-1])\n",
    "            class_partition_split[class_].pop()\n",
    "            n-=1\n",
    "        j+=1\n",
    "\n",
    "    ##### sorting classes based on the number of examples it has #####\n",
    "    classes = sorted(classes,key=lambda x:len(class_partition_split[x]),reverse=True)\n",
    "    if n>0:\n",
    "        raise ValueError(\" Unable to fulfill the criteria \")\n",
    "    clients_split.append([data[indcs], labels[indcs]])\n",
    "#   print(class_partition_split)\n",
    "#   print(\"total example \",count)\n",
    "\n",
    "\n",
    "  def print_split(clients_split): \n",
    "    print(\"Data split:\")\n",
    "    for i, client in enumerate(clients_split):\n",
    "      split = np.sum(client[1].reshape(1,-1)==np.arange(n_labels).reshape(-1,1), axis=1)\n",
    "      print(\" - Client {}: {}\".format(i,split))\n",
    "    print()\n",
    "      \n",
    "    if verbose:\n",
    "      print_split(clients_split)\n",
    "  \n",
    "  clients_split = np.array(clients_split)\n",
    "  \n",
    "  return clients_split"
   ]
  },
  {
   "cell_type": "code",
   "execution_count": 48,
   "metadata": {
    "executionInfo": {
     "elapsed": 238,
     "status": "ok",
     "timestamp": 1638443028030,
     "user": {
      "displayName": "Gabriel Ukstin Talasso",
      "photoUrl": "https://lh3.googleusercontent.com/a/default-user=s64",
      "userId": "10941613291697764218"
     },
     "user_tz": 180
    },
    "id": "bMhZc1HD0Fld"
   },
   "outputs": [],
   "source": [
    "def split_image_data(data, labels, n_clients=100, classes_per_client=10, shuffle=True, verbose=True):\n",
    "  '''\n",
    "  Splits (data, labels) among 'n_clients s.t. every client can holds 'classes_per_client' number of classes\n",
    "  Input:\n",
    "    data : [n_data x shape]\n",
    "    labels : [n_data (x 1)] from 0 to n_labels\n",
    "    n_clients : number of clients\n",
    "    classes_per_client : number of classes per client\n",
    "    shuffle : True/False => True for shuffling the dataset, False otherwise\n",
    "    verbose : True/False => True for printing some info, False otherwise\n",
    "  Output:\n",
    "    clients_split : client data into desired format\n",
    "  '''\n",
    "  #### constants #### \n",
    "  n_data = data.shape[0]\n",
    "  n_labels = np.max(labels) + 1\n",
    "\n",
    "\n",
    "  ### client distribution ####\n",
    "  data_per_client = clients_rand(len(data), n_clients)\n",
    "  data_per_client_per_class = [np.maximum(1,nd // classes_per_client) for nd in data_per_client]\n",
    "  \n",
    "  # sort for labels\n",
    "  data_idcs = [[] for i in range(n_labels)]\n",
    "  for j, label in enumerate(labels):\n",
    "    data_idcs[label] += [j]\n",
    "  if shuffle:\n",
    "    for idcs in data_idcs:\n",
    "      np.random.shuffle(idcs)\n",
    "    \n",
    "  # split data among clients\n",
    "  clients_split = []\n",
    "  c = 0\n",
    "  for i in range(n_clients):\n",
    "    client_idcs = []\n",
    "        \n",
    "    budget = data_per_client[i]\n",
    "    c = np.random.randint(n_labels)\n",
    "    while budget > 0:\n",
    "      take = min(data_per_client_per_class[i], len(data_idcs[c]), budget)\n",
    "      \n",
    "      client_idcs += data_idcs[c][:take]\n",
    "      data_idcs[c] = data_idcs[c][take:]\n",
    "      \n",
    "      budget -= take\n",
    "      c = (c + 1) % n_labels\n",
    "      \n",
    "    clients_split += [(data[client_idcs], labels[client_idcs])]\n",
    "\n",
    "  def print_split(clients_split): \n",
    "    print(\"Data split:\")\n",
    "    for i, client in enumerate(clients_split):\n",
    "      split = np.sum(client[1].reshape(1,-1)==np.arange(n_labels).reshape(-1,1), axis=1)\n",
    "      print(\" - Client {}: {}\".format(i,split))\n",
    "    print()\n",
    "      \n",
    "    if verbose:\n",
    "      print_split(clients_split)\n",
    "  \n",
    "  clients_split = np.array(clients_split)\n",
    "  \n",
    "  return clients_split"
   ]
  },
  {
   "cell_type": "code",
   "execution_count": 53,
   "metadata": {
    "executionInfo": {
     "elapsed": 254,
     "status": "ok",
     "timestamp": 1638443049647,
     "user": {
      "displayName": "Gabriel Ukstin Talasso",
      "photoUrl": "https://lh3.googleusercontent.com/a/default-user=s64",
      "userId": "10941613291697764218"
     },
     "user_tz": 180
    },
    "id": "E-Qx29p10LBz"
   },
   "outputs": [],
   "source": [
    "def shuffle_list(data):\n",
    "  '''\n",
    "  This function returns the shuffled data\n",
    "  '''\n",
    "  \n",
    "  for i in range(1):\n",
    "    print(data[i][1])\n",
    "    tmp_len= len(data[i][1])\n",
    "    index = [i for i in range(tmp_len)]\n",
    "    random.shuffle(index)\n",
    "    data[i][0],data[i][1] = shuffle_list_data(data[i][0],data[i][1])\n",
    "  return data\n",
    "\n",
    "\n",
    "def shuffle_list_data(x, y):\n",
    "  '''\n",
    "  This function is a helper function, shuffles an\n",
    "  array while maintaining the mapping between x and y\n",
    "  '''\n",
    "  inds = list(range(len(x)))\n",
    "  random.shuffle(inds)\n",
    "\n",
    "  #print(inds)\n",
    "  return x[inds],y[inds]"
   ]
  },
  {
   "cell_type": "code",
   "execution_count": 50,
   "metadata": {
    "executionInfo": {
     "elapsed": 243,
     "status": "ok",
     "timestamp": 1638443057685,
     "user": {
      "displayName": "Gabriel Ukstin Talasso",
      "photoUrl": "https://lh3.googleusercontent.com/a/default-user=s64",
      "userId": "10941613291697764218"
     },
     "user_tz": 180
    },
    "id": "v9kLa_0U0OAW"
   },
   "outputs": [],
   "source": [
    "class CustomImageDataset(Dataset):\n",
    "  '''\n",
    "  A custom Dataset class for images\n",
    "  inputs : numpy array [n_data x shape]\n",
    "  labels : numpy array [n_data (x 1)]\n",
    "  '''\n",
    "  def __init__(self, inputs, labels, transforms=None):\n",
    "      assert inputs.shape[0] == labels.shape[0]\n",
    "      self.inputs = torch.Tensor(inputs)\n",
    "      self.labels = torch.Tensor(labels).long()\n",
    "      self.transforms = transforms \n",
    "\n",
    "  def __getitem__(self, index):\n",
    "      img, label = self.inputs[index], self.labels[index]\n",
    "\n",
    "      if self.transforms is not None:\n",
    "        img = self.transforms(img)\n",
    "\n",
    "      return (img, label)\n",
    "\n",
    "  def __len__(self):\n",
    "      return self.inputs.shape[0]\n",
    "          \n",
    "\n",
    "def get_default_data_transforms(train=True, verbose=True):\n",
    "  transforms_train = {\n",
    "  'cifar10' : transforms.Compose([\n",
    "    transforms.ToPILImage(),\n",
    "    transforms.RandomCrop(32, padding=4),\n",
    "    transforms.RandomHorizontalFlip(),\n",
    "    transforms.ToTensor(),\n",
    "    transforms.Normalize((0.4914, 0.4822, 0.4465), (0.2023, 0.1994, 0.2010))]),#(0.24703223, 0.24348513, 0.26158784)\n",
    "  }\n",
    "  transforms_eval = {    \n",
    "  'cifar10' : transforms.Compose([\n",
    "    transforms.ToPILImage(),\n",
    "    transforms.ToTensor(),\n",
    "    transforms.Normalize((0.4914, 0.4822, 0.4465), (0.2023, 0.1994, 0.2010))])\n",
    "  }\n",
    "  if verbose:\n",
    "    print(\"\\nData preprocessing: \")\n",
    "    for transformation in transforms_train['cifar10'].transforms:\n",
    "      print(' -', transformation)\n",
    "    print()\n",
    "\n",
    "  return (transforms_train['cifar10'], transforms_eval['cifar10'])"
   ]
  },
  {
   "cell_type": "code",
   "execution_count": 51,
   "metadata": {
    "executionInfo": {
     "elapsed": 397,
     "status": "ok",
     "timestamp": 1638443375267,
     "user": {
      "displayName": "Gabriel Ukstin Talasso",
      "photoUrl": "https://lh3.googleusercontent.com/a/default-user=s64",
      "userId": "10941613291697764218"
     },
     "user_tz": 180
    },
    "id": "AMe6okIA0OaF"
   },
   "outputs": [],
   "source": [
    "def get_data_loaders(nclients,batch_size,classes_pc=10, real_wd =False ,verbose=True ):\n",
    "  \n",
    "  x_train, y_train, x_test, y_test = get_cifar10()\n",
    "\n",
    "  if verbose:\n",
    "    print_image_data_stats(x_train, y_train, x_test, y_test)\n",
    "\n",
    "  transforms_train, transforms_eval = get_default_data_transforms(verbose=False)\n",
    "  \n",
    "  if real_wd:\n",
    "    split = split_image_data_realwd(x_train, y_train, n_clients=nclients, verbose = verbose)\n",
    "  else:  \n",
    "    split = split_image_data(x_train, y_train, n_clients=nclients, \n",
    "          classes_per_client=classes_pc, verbose=verbose)\n",
    "  #print(split)\n",
    "  split_tmp = shuffle_list(split)\n",
    "  \n",
    "  client_loaders = [torch.utils.data.DataLoader(CustomImageDataset(x, y, transforms_train), \n",
    "                                                                batch_size=batch_size, shuffle=True) for x, y in split_tmp]\n",
    "\n",
    "  test_loader  = torch.utils.data.DataLoader(CustomImageDataset(x_test, y_test, transforms_eval), batch_size=100, shuffle=False) \n",
    "\n",
    "  return client_loaders, test_loader"
   ]
  },
  {
   "cell_type": "code",
   "execution_count": 54,
   "metadata": {
    "colab": {
     "base_uri": "https://localhost:8080/",
     "height": 208,
     "referenced_widgets": [
      "d66a4bcca832483086a5976580ab298d",
      "e50f5dd0b17d430c9bdd92a353d9db9e",
      "e910039cb55c4edb86d2e5b1e323aebf",
      "36c2ce987e9d4551846906716b4a3ed4",
      "9390eda119e9415ab5645c264d2e06c8",
      "c5dda71c86b3460a9b5c43f6e6a2164e",
      "44ca226ff8a3439188bbe3ece69d8528",
      "5275c14038264be484cd642f5b87b0c2",
      "05bd3b2790db4e8a86b9452ed2fca62f",
      "3eaa295120f1453f8df99626d904150a",
      "1365718c44054431914b0029f8fb4fad"
     ]
    },
    "executionInfo": {
     "elapsed": 9228,
     "status": "ok",
     "timestamp": 1638443386749,
     "user": {
      "displayName": "Gabriel Ukstin Talasso",
      "photoUrl": "https://lh3.googleusercontent.com/a/default-user=s64",
      "userId": "10941613291697764218"
     },
     "user_tz": 180
    },
    "id": "TPHzzrdu1ddh",
    "outputId": "711c32a2-c581-4b00-e4e6-1fa245ea9dd3"
   },
   "outputs": [
    {
     "name": "stdout",
     "output_type": "stream",
     "text": [
      "Files already downloaded and verified\n",
      "Files already downloaded and verified\n",
      "\n",
      "Data: \n",
      " - Train Set: ((50000, 3, 32, 32),(50000,)), Range: [0.000, 255.000], Labels: 0,..,9\n",
      " - Test Set: ((10000, 3, 32, 32),(10000,)), Range: [0.000, 255.000], Labels: 0,..,9\n",
      "[4 4 4 ... 5 5 5]\n"
     ]
    },
    {
     "name": "stderr",
     "output_type": "stream",
     "text": [
      "C:\\Users\\gabri\\AppData\\Roaming\\Python\\Python37\\site-packages\\ipykernel_launcher.py:60: VisibleDeprecationWarning: Creating an ndarray from ragged nested sequences (which is a list-or-tuple of lists-or-tuples-or ndarrays with different lengths or shapes) is deprecated. If you meant to do this, you must specify 'dtype=object' when creating the ndarray\n"
     ]
    }
   ],
   "source": [
    "###### Loading the data using the above function ######\n",
    "train_loader, test_loader = get_data_loaders(classes_pc=classes_pc, nclients= num_clients,\n",
    "                                                      batch_size=batch_size,verbose=True)"
   ]
  },
  {
   "cell_type": "code",
   "execution_count": null,
   "metadata": {},
   "outputs": [],
   "source": []
  },
  {
   "cell_type": "code",
   "execution_count": null,
   "metadata": {},
   "outputs": [],
   "source": []
  },
  {
   "cell_type": "code",
   "execution_count": null,
   "metadata": {},
   "outputs": [],
   "source": []
  }
 ],
 "metadata": {
  "colab": {
   "authorship_tag": "ABX9TyOUzpB1QIKZsu8ddZTV/IwR",
   "name": "non_IID_CIFAR10.ipynb",
   "provenance": []
  },
  "kernelspec": {
   "display_name": "Python 3",
   "language": "python",
   "name": "python3"
  },
  "language_info": {
   "codemirror_mode": {
    "name": "ipython",
    "version": 3
   },
   "file_extension": ".py",
   "mimetype": "text/x-python",
   "name": "python",
   "nbconvert_exporter": "python",
   "pygments_lexer": "ipython3",
   "version": "3.7.6"
  },
  "widgets": {
   "application/vnd.jupyter.widget-state+json": {
    "05bd3b2790db4e8a86b9452ed2fca62f": {
     "model_module": "@jupyter-widgets/base",
     "model_module_version": "1.2.0",
     "model_name": "LayoutModel",
     "state": {
      "_model_module": "@jupyter-widgets/base",
      "_model_module_version": "1.2.0",
      "_model_name": "LayoutModel",
      "_view_count": null,
      "_view_module": "@jupyter-widgets/base",
      "_view_module_version": "1.2.0",
      "_view_name": "LayoutView",
      "align_content": null,
      "align_items": null,
      "align_self": null,
      "border": null,
      "bottom": null,
      "display": null,
      "flex": null,
      "flex_flow": null,
      "grid_area": null,
      "grid_auto_columns": null,
      "grid_auto_flow": null,
      "grid_auto_rows": null,
      "grid_column": null,
      "grid_gap": null,
      "grid_row": null,
      "grid_template_areas": null,
      "grid_template_columns": null,
      "grid_template_rows": null,
      "height": null,
      "justify_content": null,
      "justify_items": null,
      "left": null,
      "margin": null,
      "max_height": null,
      "max_width": null,
      "min_height": null,
      "min_width": null,
      "object_fit": null,
      "object_position": null,
      "order": null,
      "overflow": null,
      "overflow_x": null,
      "overflow_y": null,
      "padding": null,
      "right": null,
      "top": null,
      "visibility": null,
      "width": null
     }
    },
    "1365718c44054431914b0029f8fb4fad": {
     "model_module": "@jupyter-widgets/base",
     "model_module_version": "1.2.0",
     "model_name": "LayoutModel",
     "state": {
      "_model_module": "@jupyter-widgets/base",
      "_model_module_version": "1.2.0",
      "_model_name": "LayoutModel",
      "_view_count": null,
      "_view_module": "@jupyter-widgets/base",
      "_view_module_version": "1.2.0",
      "_view_name": "LayoutView",
      "align_content": null,
      "align_items": null,
      "align_self": null,
      "border": null,
      "bottom": null,
      "display": null,
      "flex": null,
      "flex_flow": null,
      "grid_area": null,
      "grid_auto_columns": null,
      "grid_auto_flow": null,
      "grid_auto_rows": null,
      "grid_column": null,
      "grid_gap": null,
      "grid_row": null,
      "grid_template_areas": null,
      "grid_template_columns": null,
      "grid_template_rows": null,
      "height": null,
      "justify_content": null,
      "justify_items": null,
      "left": null,
      "margin": null,
      "max_height": null,
      "max_width": null,
      "min_height": null,
      "min_width": null,
      "object_fit": null,
      "object_position": null,
      "order": null,
      "overflow": null,
      "overflow_x": null,
      "overflow_y": null,
      "padding": null,
      "right": null,
      "top": null,
      "visibility": null,
      "width": null
     }
    },
    "36c2ce987e9d4551846906716b4a3ed4": {
     "model_module": "@jupyter-widgets/controls",
     "model_module_version": "1.5.0",
     "model_name": "FloatProgressModel",
     "state": {
      "_dom_classes": [],
      "_model_module": "@jupyter-widgets/controls",
      "_model_module_version": "1.5.0",
      "_model_name": "FloatProgressModel",
      "_view_count": null,
      "_view_module": "@jupyter-widgets/controls",
      "_view_module_version": "1.5.0",
      "_view_name": "ProgressView",
      "bar_style": "success",
      "description": "",
      "description_tooltip": null,
      "layout": "IPY_MODEL_05bd3b2790db4e8a86b9452ed2fca62f",
      "max": 170498071,
      "min": 0,
      "orientation": "horizontal",
      "style": "IPY_MODEL_5275c14038264be484cd642f5b87b0c2",
      "value": 170498071
     }
    },
    "3eaa295120f1453f8df99626d904150a": {
     "model_module": "@jupyter-widgets/controls",
     "model_module_version": "1.5.0",
     "model_name": "DescriptionStyleModel",
     "state": {
      "_model_module": "@jupyter-widgets/controls",
      "_model_module_version": "1.5.0",
      "_model_name": "DescriptionStyleModel",
      "_view_count": null,
      "_view_module": "@jupyter-widgets/base",
      "_view_module_version": "1.2.0",
      "_view_name": "StyleView",
      "description_width": ""
     }
    },
    "44ca226ff8a3439188bbe3ece69d8528": {
     "model_module": "@jupyter-widgets/base",
     "model_module_version": "1.2.0",
     "model_name": "LayoutModel",
     "state": {
      "_model_module": "@jupyter-widgets/base",
      "_model_module_version": "1.2.0",
      "_model_name": "LayoutModel",
      "_view_count": null,
      "_view_module": "@jupyter-widgets/base",
      "_view_module_version": "1.2.0",
      "_view_name": "LayoutView",
      "align_content": null,
      "align_items": null,
      "align_self": null,
      "border": null,
      "bottom": null,
      "display": null,
      "flex": null,
      "flex_flow": null,
      "grid_area": null,
      "grid_auto_columns": null,
      "grid_auto_flow": null,
      "grid_auto_rows": null,
      "grid_column": null,
      "grid_gap": null,
      "grid_row": null,
      "grid_template_areas": null,
      "grid_template_columns": null,
      "grid_template_rows": null,
      "height": null,
      "justify_content": null,
      "justify_items": null,
      "left": null,
      "margin": null,
      "max_height": null,
      "max_width": null,
      "min_height": null,
      "min_width": null,
      "object_fit": null,
      "object_position": null,
      "order": null,
      "overflow": null,
      "overflow_x": null,
      "overflow_y": null,
      "padding": null,
      "right": null,
      "top": null,
      "visibility": null,
      "width": null
     }
    },
    "5275c14038264be484cd642f5b87b0c2": {
     "model_module": "@jupyter-widgets/controls",
     "model_module_version": "1.5.0",
     "model_name": "ProgressStyleModel",
     "state": {
      "_model_module": "@jupyter-widgets/controls",
      "_model_module_version": "1.5.0",
      "_model_name": "ProgressStyleModel",
      "_view_count": null,
      "_view_module": "@jupyter-widgets/base",
      "_view_module_version": "1.2.0",
      "_view_name": "StyleView",
      "bar_color": null,
      "description_width": ""
     }
    },
    "9390eda119e9415ab5645c264d2e06c8": {
     "model_module": "@jupyter-widgets/controls",
     "model_module_version": "1.5.0",
     "model_name": "HTMLModel",
     "state": {
      "_dom_classes": [],
      "_model_module": "@jupyter-widgets/controls",
      "_model_module_version": "1.5.0",
      "_model_name": "HTMLModel",
      "_view_count": null,
      "_view_module": "@jupyter-widgets/controls",
      "_view_module_version": "1.5.0",
      "_view_name": "HTMLView",
      "description": "",
      "description_tooltip": null,
      "layout": "IPY_MODEL_1365718c44054431914b0029f8fb4fad",
      "placeholder": "​",
      "style": "IPY_MODEL_3eaa295120f1453f8df99626d904150a",
      "value": " 170499072/? [00:03&lt;00:00, 56183843.26it/s]"
     }
    },
    "c5dda71c86b3460a9b5c43f6e6a2164e": {
     "model_module": "@jupyter-widgets/controls",
     "model_module_version": "1.5.0",
     "model_name": "DescriptionStyleModel",
     "state": {
      "_model_module": "@jupyter-widgets/controls",
      "_model_module_version": "1.5.0",
      "_model_name": "DescriptionStyleModel",
      "_view_count": null,
      "_view_module": "@jupyter-widgets/base",
      "_view_module_version": "1.2.0",
      "_view_name": "StyleView",
      "description_width": ""
     }
    },
    "d66a4bcca832483086a5976580ab298d": {
     "model_module": "@jupyter-widgets/controls",
     "model_module_version": "1.5.0",
     "model_name": "HBoxModel",
     "state": {
      "_dom_classes": [],
      "_model_module": "@jupyter-widgets/controls",
      "_model_module_version": "1.5.0",
      "_model_name": "HBoxModel",
      "_view_count": null,
      "_view_module": "@jupyter-widgets/controls",
      "_view_module_version": "1.5.0",
      "_view_name": "HBoxView",
      "box_style": "",
      "children": [
       "IPY_MODEL_e910039cb55c4edb86d2e5b1e323aebf",
       "IPY_MODEL_36c2ce987e9d4551846906716b4a3ed4",
       "IPY_MODEL_9390eda119e9415ab5645c264d2e06c8"
      ],
      "layout": "IPY_MODEL_e50f5dd0b17d430c9bdd92a353d9db9e"
     }
    },
    "e50f5dd0b17d430c9bdd92a353d9db9e": {
     "model_module": "@jupyter-widgets/base",
     "model_module_version": "1.2.0",
     "model_name": "LayoutModel",
     "state": {
      "_model_module": "@jupyter-widgets/base",
      "_model_module_version": "1.2.0",
      "_model_name": "LayoutModel",
      "_view_count": null,
      "_view_module": "@jupyter-widgets/base",
      "_view_module_version": "1.2.0",
      "_view_name": "LayoutView",
      "align_content": null,
      "align_items": null,
      "align_self": null,
      "border": null,
      "bottom": null,
      "display": null,
      "flex": null,
      "flex_flow": null,
      "grid_area": null,
      "grid_auto_columns": null,
      "grid_auto_flow": null,
      "grid_auto_rows": null,
      "grid_column": null,
      "grid_gap": null,
      "grid_row": null,
      "grid_template_areas": null,
      "grid_template_columns": null,
      "grid_template_rows": null,
      "height": null,
      "justify_content": null,
      "justify_items": null,
      "left": null,
      "margin": null,
      "max_height": null,
      "max_width": null,
      "min_height": null,
      "min_width": null,
      "object_fit": null,
      "object_position": null,
      "order": null,
      "overflow": null,
      "overflow_x": null,
      "overflow_y": null,
      "padding": null,
      "right": null,
      "top": null,
      "visibility": null,
      "width": null
     }
    },
    "e910039cb55c4edb86d2e5b1e323aebf": {
     "model_module": "@jupyter-widgets/controls",
     "model_module_version": "1.5.0",
     "model_name": "HTMLModel",
     "state": {
      "_dom_classes": [],
      "_model_module": "@jupyter-widgets/controls",
      "_model_module_version": "1.5.0",
      "_model_name": "HTMLModel",
      "_view_count": null,
      "_view_module": "@jupyter-widgets/controls",
      "_view_module_version": "1.5.0",
      "_view_name": "HTMLView",
      "description": "",
      "description_tooltip": null,
      "layout": "IPY_MODEL_44ca226ff8a3439188bbe3ece69d8528",
      "placeholder": "​",
      "style": "IPY_MODEL_c5dda71c86b3460a9b5c43f6e6a2164e",
      "value": ""
     }
    }
   }
  }
 },
 "nbformat": 4,
 "nbformat_minor": 1
}
