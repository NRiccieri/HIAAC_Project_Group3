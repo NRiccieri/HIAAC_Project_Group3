{
 "cells": [
  {
   "cell_type": "code",
   "execution_count": 1,
   "metadata": {},
   "outputs": [
    {
     "name": "stderr",
     "output_type": "stream",
     "text": [
      "INFO flower 2022-02-21 13:47:03,786 | app.py:77 | Flower server running (insecure, 5 rounds)\n",
      "INFO flower 2022-02-21 13:47:03,787 | server.py:118 | Initializing global parameters\n",
      "INFO flower 2022-02-21 13:47:03,788 | server.py:304 | Requesting initial parameters from one random client\n",
      "INFO flower 2022-02-21 13:47:04,521 | server.py:307 | Received initial parameters from one random client\n",
      "INFO flower 2022-02-21 13:47:04,521 | server.py:120 | Evaluating initial parameters\n",
      "INFO flower 2022-02-21 13:47:04,582 | server.py:123 | initial parameters (loss, other metrics): 2.3025850929940455, {'accuracy': 0.098}\n",
      "INFO flower 2022-02-21 13:47:04,582 | server.py:133 | FL starting\n",
      "DEBUG flower 2022-02-21 13:47:05,975 | server.py:251 | fit_round: strategy sampled 2 clients (out of 2)\n",
      "DEBUG flower 2022-02-21 13:47:06,080 | server.py:260 | fit_round received 2 results and 0 failures\n",
      "INFO flower 2022-02-21 13:47:06,140 | server.py:148 | fit progress: (1, 1.4819887217661643, {'accuracy': 0.594}, 1.5580003000000002)\n",
      "INFO flower 2022-02-21 13:47:06,141 | server.py:199 | evaluate_round: no clients selected, cancel\n",
      "DEBUG flower 2022-02-21 13:47:06,141 | server.py:251 | fit_round: strategy sampled 2 clients (out of 2)\n",
      "DEBUG flower 2022-02-21 13:47:06,255 | server.py:260 | fit_round received 2 results and 0 failures\n",
      "INFO flower 2022-02-21 13:47:06,315 | server.py:148 | fit progress: (2, 1.070217906190999, {'accuracy': 0.6805}, 1.7325664)\n",
      "INFO flower 2022-02-21 13:47:06,316 | server.py:199 | evaluate_round: no clients selected, cancel\n",
      "DEBUG flower 2022-02-21 13:47:06,316 | server.py:251 | fit_round: strategy sampled 2 clients (out of 2)\n",
      "DEBUG flower 2022-02-21 13:47:06,425 | server.py:260 | fit_round received 2 results and 0 failures\n",
      "INFO flower 2022-02-21 13:47:06,488 | server.py:148 | fit progress: (3, 0.9597874086653377, {'accuracy': 0.7041}, 1.9052092000000003)\n",
      "INFO flower 2022-02-21 13:47:06,488 | server.py:199 | evaluate_round: no clients selected, cancel\n",
      "DEBUG flower 2022-02-21 13:47:06,489 | server.py:251 | fit_round: strategy sampled 2 clients (out of 2)\n",
      "DEBUG flower 2022-02-21 13:47:06,581 | server.py:260 | fit_round received 2 results and 0 failures\n",
      "INFO flower 2022-02-21 13:47:06,644 | server.py:148 | fit progress: (4, 0.8899199547954456, {'accuracy': 0.7199}, 2.0605225)\n",
      "INFO flower 2022-02-21 13:47:06,644 | server.py:199 | evaluate_round: no clients selected, cancel\n",
      "DEBUG flower 2022-02-21 13:47:06,644 | server.py:251 | fit_round: strategy sampled 2 clients (out of 2)\n",
      "DEBUG flower 2022-02-21 13:47:06,804 | server.py:260 | fit_round received 2 results and 0 failures\n",
      "INFO flower 2022-02-21 13:47:06,865 | server.py:148 | fit progress: (5, 0.8934692736146491, {'accuracy': 0.7205}, 2.2826583)\n",
      "INFO flower 2022-02-21 13:47:06,866 | server.py:199 | evaluate_round: no clients selected, cancel\n",
      "INFO flower 2022-02-21 13:47:06,866 | server.py:172 | FL finished in 2.2836215999999996\n",
      "INFO flower 2022-02-21 13:47:06,866 | app.py:119 | app_fit: losses_distributed []\n",
      "INFO flower 2022-02-21 13:47:06,867 | app.py:120 | app_fit: metrics_distributed {}\n",
      "INFO flower 2022-02-21 13:47:06,867 | app.py:121 | app_fit: losses_centralized [(0, 2.3025850929940455), (1, 1.4819887217661643), (2, 1.070217906190999), (3, 0.9597874086653377), (4, 0.8899199547954456), (5, 0.8934692736146491)]\n",
      "INFO flower 2022-02-21 13:47:06,867 | app.py:122 | app_fit: metrics_centralized {'accuracy': [(0, 0.098), (1, 0.594), (2, 0.6805), (3, 0.7041), (4, 0.7199), (5, 0.7205)]}\n"
     ]
    }
   ],
   "source": [
    "import flwr as fl\n",
    "import utils\n",
    "from sklearn.metrics import log_loss\n",
    "from sklearn.linear_model import LogisticRegression\n",
    "from typing import Dict\n",
    "\n",
    "def fit_round(rnd: int) -> Dict:\n",
    "    \"\"\"Send round number to client.\"\"\"\n",
    "    return {\"rnd\": rnd}\n",
    "\n",
    "\n",
    "def get_eval_fn(model: LogisticRegression):\n",
    "    \"\"\"Return an evaluation function for server-side evaluation.\"\"\"\n",
    "\n",
    "    # Load test data here to avoid the overhead of doing it in `evaluate` itself\n",
    "    _, (X_test, y_test) = utils.load_mnist()\n",
    "\n",
    "    # The `evaluate` function will be called after every round\n",
    "    def evaluate(parameters: fl.common.Weights):\n",
    "        # Update model with the latest parameters\n",
    "        utils.set_model_params(model, parameters)\n",
    "        #print(y_test, X_test)\n",
    "        loss = log_loss(y_test, model.predict_proba(X_test))\n",
    "        accuracy = model.score(X_test, y_test)\n",
    "        f = open(\"acc.txt\", \"a\")\n",
    "        f.write(str(accuracy)+\"\\n\")\n",
    "        f.close()\n",
    "        return loss, {\"accuracy\": accuracy}\n",
    "\n",
    "    return evaluate\n",
    "\n",
    "\n",
    "# Start Flower server for five rounds of federated learning\n",
    "if __name__ == \"__main__\":\n",
    "    model = LogisticRegression()\n",
    "    utils.set_initial_params(model)\n",
    "    strategy = fl.server.strategy.FedAvg(\n",
    "        min_available_clients=2,\n",
    "        eval_fn=get_eval_fn(model),\n",
    "        on_fit_config_fn=fit_round,\n",
    "    )\n",
    "    fl.server.start_server(\"localhost:8080\", strategy=strategy, config={\"num_rounds\": 5})\n"
   ]
  },
  {
   "cell_type": "code",
   "execution_count": null,
   "metadata": {},
   "outputs": [],
   "source": []
  }
 ],
 "metadata": {
  "kernelspec": {
   "display_name": "Python 3 (ipykernel)",
   "language": "python",
   "name": "python3"
  },
  "language_info": {
   "codemirror_mode": {
    "name": "ipython",
    "version": 3
   },
   "file_extension": ".py",
   "mimetype": "text/x-python",
   "name": "python",
   "nbconvert_exporter": "python",
   "pygments_lexer": "ipython3",
   "version": "3.9.7"
  }
 },
 "nbformat": 4,
 "nbformat_minor": 4
}
